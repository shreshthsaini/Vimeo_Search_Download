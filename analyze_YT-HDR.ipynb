{
 "cells": [
  {
   "cell_type": "code",
   "execution_count": 1,
   "metadata": {},
   "outputs": [],
   "source": [
    "import os \n",
    "import glob \n",
    "import numpy as np \n",
    "import pandas as pd\n",
    "import statistics \n",
    "from tqdm import tqdm\n",
    "\n",
    "from pymediainfo import MediaInfo as mi\n",
    "import ffmpeg as fpeg\n",
    "import ffprobe as fprobe\n",
    "\n",
    "from matplotlib import pyplot as plt \n",
    "import seaborn as sns\n",
    "\n"
   ]
  },
  {
   "cell_type": "markdown",
   "metadata": {},
   "source": [
    "### Analysis and General Checks "
   ]
  },
  {
   "cell_type": "code",
   "execution_count": 5,
   "metadata": {},
   "outputs": [],
   "source": [
    "# all collected videos\n",
    "base_path = \"/media/ss223464/Expansion1/Shreshth-2/Datasets/Vimeo/\"\n",
    "raw_vid_folders = [\"10k_word_raw/\", \"All_Combined_keywords/\"]\n"
   ]
  },
  {
   "cell_type": "code",
   "execution_count": 6,
   "metadata": {},
   "outputs": [],
   "source": [
    "#helper function \n",
    "def get_number(s):\n",
    "    try:\n",
    "        return int(s.split('.')[0].split(\"_\")[-1])\n",
    "    except ValueError:\n",
    "        return None\n"
   ]
  },
  {
   "cell_type": "code",
   "execution_count": 15,
   "metadata": {},
   "outputs": [
    {
     "name": "stdout",
     "output_type": "stream",
     "text": [
      "Unique extensions:  ['octet-stream', 'mov', 'mp4', 'm4a']\n",
      "Unique extensions:  ['octet-stream', 'mov', 'mp4', 'm4a', 'unknown_video']\n",
      "Total Video in 10K: 8111; Total Video in AllC: 10956; Total Video: 19067.\n"
     ]
    }
   ],
   "source": [
    "#listing all unique downloaded videos\n",
    "raw_vids_10K = os.listdir(base_path+raw_vid_folders[0])\n",
    "raw_vids_AllC = os.listdir(base_path+raw_vid_folders[1])\n",
    "raw_vids_all = raw_vids_10K + raw_vids_AllC\n",
    "# check the unique extensions \n",
    "exts = list(set([i.split('.')[-1] for i in raw_vids_10K]))\n",
    "print(\"Unique extensions: \", exts)\n",
    "exts = list(set([i.split('.')[-1] for i in raw_vids_AllC]))\n",
    "print(\"Unique extensions: \", exts)\n",
    "#updated list  \n",
    "#raw_vids_10K = [i for i in raw_vids_10K if i.split('.')[-1] in ['webm','mp4','mkv','avi','mov','m4a',]]\n",
    "#raw_vids_AllC = [i for i in raw_vids_AllC if i.split('.')[-1] == 'webm' or i.split('.')[-1] == 'mp4']\n",
    "\n",
    "#counting total videos \n",
    "count_10K = len(raw_vids_10K)\n",
    "count_AllC = len(raw_vids_AllC)\n",
    "count_total_vids = count_10K + count_AllC\n",
    "print(\"Total Video in 10K: {}; Total Video in AllC: {}; Total Video: {}.\".format(count_10K, count_AllC, count_total_vids))\n"
   ]
  },
  {
   "cell_type": "code",
   "execution_count": 64,
   "metadata": {},
   "outputs": [
    {
     "data": {
      "text/plain": [
       "11109"
      ]
     },
     "execution_count": 64,
     "metadata": {},
     "output_type": "execute_result"
    }
   ],
   "source": [
    "# check the unique files in total \n",
    "len(set(raw_vids_all))\n"
   ]
  },
  {
   "cell_type": "code",
   "execution_count": 36,
   "metadata": {},
   "outputs": [],
   "source": [
    "#checking primaries and video shape\n",
    "\n",
    "#Directly count\n",
    "def count_stats(address, dataset_vid):\n",
    "    color_bt2020 = 0\n",
    "    vertical = 0\n",
    "    for i in dataset_vid:\n",
    "        output = mi.parse(address+i)\n",
    "        for track in output.tracks:\n",
    "            if track.track_type == 'Video':\n",
    "                output = track.color_primaries        \n",
    "                if output == \"BT.2020\": \n",
    "                    color_bt2020 += 1\n",
    "                widht = track.width\n",
    "                height = track.height\n",
    "                if widht < height: \n",
    "                    vertical += 1\n",
    "    return color_bt2020, vertical\n",
    "\n",
    "#return stats for each file\n",
    "def check_stats(address, dataset_vid):\n",
    "    color_primaries = {}\n",
    "    shape_HxW = {}\n",
    "    print(\"data lenght: \",len(dataset_vid))\n",
    "    for i in dataset_vid:\n",
    "        output = mi.parse(address+i)\n",
    "        \n",
    "        for track in output.tracks:\n",
    "            if track.track_type == 'Video':\n",
    "                output = track.color_primaries        \n",
    "                # add to dictionary with address i\n",
    "                color_primaries[i] = output\n",
    "                width = track.width\n",
    "                height = track.height\n",
    "                shape_HxW[i] = [height,width]\n",
    "                break\n",
    "    return color_primaries, shape_HxW\n"
   ]
  },
  {
   "cell_type": "code",
   "execution_count": 19,
   "metadata": {},
   "outputs": [
    {
     "name": "stdout",
     "output_type": "stream",
     "text": [
      "Total number of 10K videos:  8111\n",
      "Total number of videos:  8111\n",
      "Number and percentage of bt2020:  3701 45.62939218345457\n",
      "Number and percentage of vertical videos:  1879 23.166070768092712\n"
     ]
    }
   ],
   "source": [
    "# check % of video HDR; % of vertical and non-vetical video of total\n",
    "\n",
    "#10K\n",
    "color_bt2020_10K, verticals_10K = count_stats(base_path+raw_vid_folders[0], raw_vids_10K)\n",
    "print(\"Total number of 10K videos: \", len(raw_vids_10K))\n",
    "print(\"Total number of videos: \", len(raw_vids_10K))\n",
    "print(\"Number and percentage of bt2020: \", color_bt2020_10K, color_bt2020_10K/len(raw_vids_10K)*100)\n",
    "print(\"Number and percentage of vertical videos: \", verticals_10K, verticals_10K/len(raw_vids_10K)*100)\n",
    "\n"
   ]
  },
  {
   "cell_type": "code",
   "execution_count": 20,
   "metadata": {},
   "outputs": [
    {
     "name": "stdout",
     "output_type": "stream",
     "text": [
      "Total number of AllC videos:  10956\n",
      "Total number of videos:  10956\n",
      "Number and percentage of bt2020:  4682 42.73457466228551\n",
      "Number and percentage of vertical videos:  2618 23.895582329317268\n"
     ]
    }
   ],
   "source": [
    "# All Combined part \n",
    "color_bt2020_AllC, verticals_AllC = count_stats(base_path+raw_vid_folders[1], raw_vids_AllC)\n",
    "print(\"Total number of AllC videos: \", len(raw_vids_AllC))\n",
    "print(\"Total number of videos: \", len(raw_vids_AllC))\n",
    "print(\"Number and percentage of bt2020: \", color_bt2020_AllC, color_bt2020_AllC/len(raw_vids_AllC)*100)\n",
    "print(\"Number and percentage of vertical videos: \", verticals_AllC, verticals_AllC/len(raw_vids_AllC)*100)\n",
    "\n",
    "\n"
   ]
  },
  {
   "cell_type": "code",
   "execution_count": 21,
   "metadata": {},
   "outputs": [
    {
     "name": "stdout",
     "output_type": "stream",
     "text": [
      "Number and percentage of bt2020:  8383 43.96601458016468\n",
      "Number and percentage of vertical videos:  4497 23.58525200608381\n"
     ]
    }
   ],
   "source": [
    "#Total percentages \n",
    "print(\"Number and percentage of bt2020: \", color_bt2020_AllC+color_bt2020_10K , (color_bt2020_AllC+color_bt2020_10K)/(count_AllC+count_10K) *100)\n",
    "print(\"Number and percentage of vertical videos: \", verticals_AllC+verticals_10K , (verticals_AllC+verticals_10K)/(count_AllC+count_10K) *100)\n"
   ]
  },
  {
   "cell_type": "code",
   "execution_count": 22,
   "metadata": {},
   "outputs": [],
   "source": [
    "#updated list  \n",
    "#raw_vids_10K = [i for i in raw_vids_10K if i.split('.')[-1] == 'webm' or i.split('.')[-1] == 'mp4']\n",
    "#raw_vids_AllC = [i for i in raw_vids_AllC if i.split('.')[-1] == 'webm' or i.split('.')[-1] == 'mp4']\n"
   ]
  },
  {
   "cell_type": "code",
   "execution_count": 31,
   "metadata": {},
   "outputs": [
    {
     "name": "stdout",
     "output_type": "stream",
     "text": [
      "8111 10956\n"
     ]
    }
   ],
   "source": [
    "print(len(raw_vids_10K), len(raw_vids_AllC))"
   ]
  },
  {
   "cell_type": "code",
   "execution_count": 37,
   "metadata": {},
   "outputs": [
    {
     "name": "stdout",
     "output_type": "stream",
     "text": [
      "data lenght:  8111\n",
      "data lenght:  10956\n"
     ]
    }
   ],
   "source": [
    "#get the array for color prim and HxW\n",
    "\n",
    "color_prim_10K, HXW_10K = check_stats(base_path+raw_vid_folders[0], raw_vids_10K)\n",
    "color_prim_AllC, HXW_AllC = check_stats(base_path+raw_vid_folders[1], raw_vids_AllC)\n"
   ]
  },
  {
   "cell_type": "code",
   "execution_count": 35,
   "metadata": {},
   "outputs": [
    {
     "name": "stdout",
     "output_type": "stream",
     "text": [
      "<Track track_id='1', track_type='Video'>\n",
      "<Track track_id='3', track_type='Video'>\n"
     ]
    }
   ],
   "source": [
    "# check what are other tracks in the video \n",
    "output = mi.parse(base_path+raw_vid_folders[0]+\"862030165_280.mp4\")\n",
    "for track in output.tracks:\n",
    "    if track.track_type == 'Video':\n",
    "        print(track)\n",
    "        "
   ]
  },
  {
   "cell_type": "code",
   "execution_count": 38,
   "metadata": {},
   "outputs": [
    {
     "name": "stdout",
     "output_type": "stream",
     "text": [
      "8107 10952 19059\n"
     ]
    }
   ],
   "source": [
    "print(len(color_prim_10K), len(color_prim_AllC), len(color_prim_10K)+len(color_prim_AllC) )\n",
    "\n",
    "#Total Video in 10K: 8111; Total Video in AllC: 10956; Total Video: 19067.\n"
   ]
  },
  {
   "cell_type": "code",
   "execution_count": 57,
   "metadata": {},
   "outputs": [
    {
     "name": "stdout",
     "output_type": "stream",
     "text": [
      "19059 19059 19059 19059 19059 19059 19059 19059\n"
     ]
    }
   ],
   "source": [
    "#get the YT Video ID (split name with '_' and take [0]) - verify. Might be the case where actual name/ID includes '_'!\n",
    "all_names = list(color_prim_10K.keys()) + list(color_prim_AllC.keys())\n",
    "all_ids = [\"_\".join(i.split('.')[0].split(\"_\")[:-1]) for i in all_names]\n",
    "\n",
    "#Gettting relevant columns\n",
    "base_path_ids = [base_path+raw_vid_folders[0]]*8107 + [base_path+raw_vid_folders[1]]*10952\n",
    "color_prims = list(color_prim_10K.values()) + list(color_prim_AllC.values())\n",
    "Heights = [i[0] for i in HXW_10K] + [i[0] for i in HXW_AllC]\n",
    "Widths = [i[1] for i in HXW_10K] + [i[1] for i in HXW_AllC]\n",
    "start_time = [0]*len(base_path_ids)\n",
    "end_time = [get_number(i.split('.')[0].split(\"_\")[-1]) for i in all_names]\n",
    "\n",
    "# print and check all lengths with names in single line \n",
    "print(len(all_ids), len(all_names), len(base_path_ids), len(color_prims), len(Heights), len(Widths), len(start_time), len(end_time))\n",
    "\n",
    "#may add more columns based on features/Info needed\n",
    "\n",
    "# Creating dataframe to store all.\n",
    "df = pd.DataFrame(\n",
    "    {\n",
    "        \"ID\":all_ids,\n",
    "        \"Name(+Duration)\":all_names,\n",
    "        \"Base_Path\":base_path_ids,\n",
    "        \"color_prims\":color_prims,\n",
    "        \"Height\":Heights,\n",
    "        \"Width\":Widths,\n",
    "        \"start_time\": start_time,\n",
    "        \"end_time\": end_time\n",
    "    }\n",
    ")\n",
    "\n",
    "#keep raw \n",
    "df_raw = df.copy()\n",
    "\n",
    "#clean the dataframe \n",
    "#clean: remove all None duration videos and save them as separate csv. These are the video which i have downloaded but removed from YT. \n",
    "df_removed_shorts = df[df['Name(+Duration)'].str.contains('_None')]\n",
    "df_removed_shorts.to_csv(\"csv_files/Analyzed_HDR_Shorts_list_vimeo_Removed.csv\", index=False)\n",
    "if False: \n",
    "    df_removed_shorts.to_excel(\"csv_files/Analyzed_HDR_Shorts_list_vimeo_Removed.xlsx\", index=False)\n",
    "\n",
    "df = df[~df['Name(+Duration)'].str.contains('_None')]\n",
    "df.to_csv(\"csv_files/Analyzed_HDR_Shorts_list.csv\")\n",
    "if False:\n",
    "    df.to_excel(\"csv_files/Analyzed_HDR_Shorts_list.xlsx\", index=False)\n",
    "\n",
    "# clean and drop duplicates \n",
    "df = df.drop_duplicates(subset=['ID'])\n",
    "df.to_csv(\"csv_files/Analyzed_HDR_Shorts_list.csv\")\n"
   ]
  },
  {
   "cell_type": "code",
   "execution_count": null,
   "metadata": {},
   "outputs": [],
   "source": []
  },
  {
   "cell_type": "code",
   "execution_count": 58,
   "metadata": {},
   "outputs": [],
   "source": [
    "#filtering out the videos \n",
    "# HDR videos    \n",
    "df_hdr = df[(df['color_prims']=='BT.2020') |( df['color_prims']=='bt.2020')]\n",
    "df_hdr.to_csv(\"csv_files/True_HDR_Shorts_list.csv\")\n",
    "if False:\n",
    "    df_hdr.to_excel(\"csv_files/True_HDR_Shorts_list.xlsx\", index=False)\n",
    "\n",
    "# vertical videos\n",
    "df_vertical = df[df['Height'] > df['Width']]\n",
    "df_vertical.to_csv(\"csv_files/True_Vertical_Shorts_list.csv\")\n",
    "if False:\n",
    "    df_vertical.to_excel(\"csv_files/True_Vertical_Shorts_list.xlsx\", index=False)\n",
    "\n",
    "# True HDR vertical videos\n",
    "df_shorts = df_hdr[df_hdr['Height'] > df_hdr['Width']]\n",
    "df_shorts.to_csv(\"csv_files/True_HDR_Vertical_Shorts_list.csv\")\n",
    "if False:\n",
    "    df_shorts.to_excel(\"csv_files/True_HDR_Vertical_Shorts_list.xlsx\", index=False)"
   ]
  },
  {
   "cell_type": "code",
   "execution_count": 59,
   "metadata": {},
   "outputs": [
    {
     "data": {
      "text/plain": [
       "'\\ndf_hdr_vertical = pd.read_csv(\"csv_files/True_HDR_Vertical_Shorts_list.csv\")\\nfor i in range(len(df_hdr_vertical)//500): \\n    df_hdr_vertical[:(i+1)*500].to_csv(\"csv_files/True_HDR_Vertical_Shorts_Batch_{}.csv\".format(i+1), index=False)\\n    if True:\\n        df_hdr_vertical[:(i+1)*500].to_excel(\"csv_files/True_HDR_Vertical_Shorts_Batch_{}.xlsx\".format(i+1), index=False)\\n        \\n'"
      ]
     },
     "execution_count": 59,
     "metadata": {},
     "output_type": "execute_result"
    }
   ],
   "source": [
    "# making batches for true_hdr\n",
    "\"\"\"\n",
    "df_hdr_vertical = pd.read_csv(\"csv_files/True_HDR_Vertical_Shorts_list.csv\")\n",
    "for i in range(len(df_hdr_vertical)//500): \n",
    "    df_hdr_vertical[:(i+1)*500].to_csv(\"csv_files/True_HDR_Vertical_Shorts_Batch_{}.csv\".format(i+1), index=False)\n",
    "    if True:\n",
    "        df_hdr_vertical[:(i+1)*500].to_excel(\"csv_files/True_HDR_Vertical_Shorts_Batch_{}.xlsx\".format(i+1), index=False)\n",
    "        \n",
    "\"\"\""
   ]
  },
  {
   "cell_type": "code",
   "execution_count": 60,
   "metadata": {},
   "outputs": [
    {
     "name": "stdout",
     "output_type": "stream",
     "text": [
      "Run times for all True HDR Short Videos. Min: 0, Max: 8024, Median: 63, Mean: 236.54038516815177,\n",
      "Original Video Count:3479\n"
     ]
    }
   ],
   "source": [
    "# analyzing the average play time and estimations for total volume of data after clipping/trimming. \n",
    "\n",
    "# Only for True HDR Short videos\n",
    "\n",
    "df_hdr_vertical = pd.read_csv(\"csv_files/True_HDR_Vertical_Shorts_list.csv\")\n",
    "run_times = df_hdr_vertical[\"end_time\"].to_list()\n",
    "\n",
    "min_runtime, max_runtime, median_runtime, avg_runtime = np.min(run_times), np.max(run_times), statistics.median(run_times), np.mean(run_times)\n",
    "print(\"Run times for all True HDR Short Videos. Min: {}, Max: {}, Median: {}, Mean: {},\".format(min_runtime, max_runtime, median_runtime, avg_runtime))\n",
    "\n",
    "print(\"Original Video Count:{}\".format(len(run_times)))\n"
   ]
  },
  {
   "cell_type": "code",
   "execution_count": 61,
   "metadata": {},
   "outputs": [
    {
     "data": {
      "image/png": "[encoded data removed]",
      "text/plain": [
       "<Figure size 800x800 with 2 Axes>"
      ]
     },
     "metadata": {},
     "output_type": "display_data"
    }
   ],
   "source": [
    "#plot histogram of runtime data show these statistics in the figure. \n",
    "\n",
    "# Create subplots\n",
    "fig, (ax1, ax2) = plt.subplots(2, 1, figsize=(8, 8))\n",
    "\n",
    "# Plotting the histogram\n",
    "ax1.hist(run_times, bins=200, edgecolor='black', alpha=0.5)\n",
    "ax1.set_xlabel('Run times')\n",
    "ax1.set_ylabel('Frequency')\n",
    "ax1.set_title('Histogram of Run times for True HDR Short Videos')\n",
    "\n",
    "# Plotting the KDE plot\n",
    "sns.kdeplot(run_times, ax=ax2, color='blue', fill=True)\n",
    "ax2.set_xlabel('Run times')\n",
    "ax2.set_ylabel('Density')\n",
    "ax2.set_title('KDE Plot of Run times for True HDR Short Videos')\n",
    "\n",
    "# Increase x-axis markings on the KDE plot\n",
    "x_ticks = np.linspace(min(run_times), max(run_times), num=10)\n",
    "ax2.set_xticks(x_ticks)\n",
    "\n",
    "# Adjust spacing between subplots\n",
    "plt.subplots_adjust(hspace=0.4)\n",
    "\n",
    "# Adding statistics as text in the figure\n",
    "plt.text(0.7, 0.9, f\"Min: {min(run_times)}\", transform=plt.gca().transAxes)\n",
    "plt.text(0.7, 0.85, f\"Max: {max(run_times)}\", transform=plt.gca().transAxes)\n",
    "plt.text(0.7, 0.8, f\"Median: {sorted(run_times)[len(run_times)//2]}\", transform=plt.gca().transAxes)\n",
    "plt.text(0.7, 0.75, f\"Mean: {sum(run_times)/len(run_times)}\", transform=plt.gca().transAxes)\n",
    "\n",
    "# Display the figure\n",
    "plt.show()\n"
   ]
  },
  {
   "cell_type": "code",
   "execution_count": 62,
   "metadata": {},
   "outputs": [
    {
     "data": {
      "text/html": [
       "<div>\n",
       "<style scoped>\n",
       "    .dataframe tbody tr th:only-of-type {\n",
       "        vertical-align: middle;\n",
       "    }\n",
       "\n",
       "    .dataframe tbody tr th {\n",
       "        vertical-align: top;\n",
       "    }\n",
       "\n",
       "    .dataframe thead th {\n",
       "        text-align: right;\n",
       "    }\n",
       "</style>\n",
       "<table border=\"1\" class=\"dataframe\">\n",
       "  <thead>\n",
       "    <tr style=\"text-align: right;\">\n",
       "      <th></th>\n",
       "      <th>Unnamed: 0</th>\n",
       "      <th>ID</th>\n",
       "      <th>Name(+Duration)</th>\n",
       "      <th>Base_Path</th>\n",
       "      <th>color_prims</th>\n",
       "      <th>Height</th>\n",
       "      <th>Width</th>\n",
       "      <th>start_time</th>\n",
       "      <th>end_time</th>\n",
       "    </tr>\n",
       "  </thead>\n",
       "  <tbody>\n",
       "    <tr>\n",
       "      <th>0</th>\n",
       "      <td>0</td>\n",
       "      <td>754376982</td>\n",
       "      <td>754376982_13.mp4</td>\n",
       "      <td>/media/ss223464/Expansion1/Shreshth-2/Datasets...</td>\n",
       "      <td>BT.2020</td>\n",
       "      <td>7</td>\n",
       "      <td>5</td>\n",
       "      <td>0</td>\n",
       "      <td>13</td>\n",
       "    </tr>\n",
       "    <tr>\n",
       "      <th>1</th>\n",
       "      <td>1</td>\n",
       "      <td>851400982</td>\n",
       "      <td>851400982_53.mp4</td>\n",
       "      <td>/media/ss223464/Expansion1/Shreshth-2/Datasets...</td>\n",
       "      <td>BT.2020</td>\n",
       "      <td>8</td>\n",
       "      <td>5</td>\n",
       "      <td>0</td>\n",
       "      <td>53</td>\n",
       "    </tr>\n",
       "    <tr>\n",
       "      <th>2</th>\n",
       "      <td>2</td>\n",
       "      <td>763246028</td>\n",
       "      <td>763246028_157.mp4</td>\n",
       "      <td>/media/ss223464/Expansion1/Shreshth-2/Datasets...</td>\n",
       "      <td>BT.2020</td>\n",
       "      <td>7</td>\n",
       "      <td>6</td>\n",
       "      <td>0</td>\n",
       "      <td>157</td>\n",
       "    </tr>\n",
       "    <tr>\n",
       "      <th>3</th>\n",
       "      <td>5</td>\n",
       "      <td>823939821</td>\n",
       "      <td>823939821_335.mp4</td>\n",
       "      <td>/media/ss223464/Expansion1/Shreshth-2/Datasets...</td>\n",
       "      <td>BT.2020</td>\n",
       "      <td>8</td>\n",
       "      <td>2</td>\n",
       "      <td>0</td>\n",
       "      <td>335</td>\n",
       "    </tr>\n",
       "    <tr>\n",
       "      <th>4</th>\n",
       "      <td>6</td>\n",
       "      <td>848539537</td>\n",
       "      <td>848539537_400.mp4</td>\n",
       "      <td>/media/ss223464/Expansion1/Shreshth-2/Datasets...</td>\n",
       "      <td>BT.2020</td>\n",
       "      <td>8</td>\n",
       "      <td>4</td>\n",
       "      <td>0</td>\n",
       "      <td>400</td>\n",
       "    </tr>\n",
       "    <tr>\n",
       "      <th>...</th>\n",
       "      <td>...</td>\n",
       "      <td>...</td>\n",
       "      <td>...</td>\n",
       "      <td>...</td>\n",
       "      <td>...</td>\n",
       "      <td>...</td>\n",
       "      <td>...</td>\n",
       "      <td>...</td>\n",
       "      <td>...</td>\n",
       "    </tr>\n",
       "    <tr>\n",
       "      <th>3474</th>\n",
       "      <td>18655</td>\n",
       "      <td>906165759</td>\n",
       "      <td>906165759_72.mp4</td>\n",
       "      <td>/media/ss223464/Expansion1/Shreshth-2/Datasets...</td>\n",
       "      <td>BT.2020</td>\n",
       "      <td>9</td>\n",
       "      <td>0</td>\n",
       "      <td>0</td>\n",
       "      <td>72</td>\n",
       "    </tr>\n",
       "    <tr>\n",
       "      <th>3475</th>\n",
       "      <td>18695</td>\n",
       "      <td>906327717</td>\n",
       "      <td>906327717_13.mp4</td>\n",
       "      <td>/media/ss223464/Expansion1/Shreshth-2/Datasets...</td>\n",
       "      <td>BT.2020</td>\n",
       "      <td>9</td>\n",
       "      <td>0</td>\n",
       "      <td>0</td>\n",
       "      <td>13</td>\n",
       "    </tr>\n",
       "    <tr>\n",
       "      <th>3476</th>\n",
       "      <td>18916</td>\n",
       "      <td>907573435</td>\n",
       "      <td>907573435_31.mp4</td>\n",
       "      <td>/media/ss223464/Expansion1/Shreshth-2/Datasets...</td>\n",
       "      <td>BT.2020</td>\n",
       "      <td>9</td>\n",
       "      <td>0</td>\n",
       "      <td>0</td>\n",
       "      <td>31</td>\n",
       "    </tr>\n",
       "    <tr>\n",
       "      <th>3477</th>\n",
       "      <td>19044</td>\n",
       "      <td>727801104</td>\n",
       "      <td>727801104_16.mp4</td>\n",
       "      <td>/media/ss223464/Expansion1/Shreshth-2/Datasets...</td>\n",
       "      <td>BT.2020</td>\n",
       "      <td>7</td>\n",
       "      <td>2</td>\n",
       "      <td>0</td>\n",
       "      <td>16</td>\n",
       "    </tr>\n",
       "    <tr>\n",
       "      <th>3478</th>\n",
       "      <td>19057</td>\n",
       "      <td>908392389</td>\n",
       "      <td>908392389_92.mp4</td>\n",
       "      <td>/media/ss223464/Expansion1/Shreshth-2/Datasets...</td>\n",
       "      <td>BT.2020</td>\n",
       "      <td>9</td>\n",
       "      <td>0</td>\n",
       "      <td>0</td>\n",
       "      <td>92</td>\n",
       "    </tr>\n",
       "  </tbody>\n",
       "</table>\n",
       "<p>3479 rows × 9 columns</p>\n",
       "</div>"
      ],
      "text/plain": [
       "      Unnamed: 0         ID    Name(+Duration)  \\\n",
       "0              0  754376982   754376982_13.mp4   \n",
       "1              1  851400982   851400982_53.mp4   \n",
       "2              2  763246028  763246028_157.mp4   \n",
       "3              5  823939821  823939821_335.mp4   \n",
       "4              6  848539537  848539537_400.mp4   \n",
       "...          ...        ...                ...   \n",
       "3474       18655  906165759   906165759_72.mp4   \n",
       "3475       18695  906327717   906327717_13.mp4   \n",
       "3476       18916  907573435   907573435_31.mp4   \n",
       "3477       19044  727801104   727801104_16.mp4   \n",
       "3478       19057  908392389   908392389_92.mp4   \n",
       "\n",
       "                                              Base_Path color_prims Height  \\\n",
       "0     /media/ss223464/Expansion1/Shreshth-2/Datasets...     BT.2020      7   \n",
       "1     /media/ss223464/Expansion1/Shreshth-2/Datasets...     BT.2020      8   \n",
       "2     /media/ss223464/Expansion1/Shreshth-2/Datasets...     BT.2020      7   \n",
       "3     /media/ss223464/Expansion1/Shreshth-2/Datasets...     BT.2020      8   \n",
       "4     /media/ss223464/Expansion1/Shreshth-2/Datasets...     BT.2020      8   \n",
       "...                                                 ...         ...    ...   \n",
       "3474  /media/ss223464/Expansion1/Shreshth-2/Datasets...     BT.2020      9   \n",
       "3475  /media/ss223464/Expansion1/Shreshth-2/Datasets...     BT.2020      9   \n",
       "3476  /media/ss223464/Expansion1/Shreshth-2/Datasets...     BT.2020      9   \n",
       "3477  /media/ss223464/Expansion1/Shreshth-2/Datasets...     BT.2020      7   \n",
       "3478  /media/ss223464/Expansion1/Shreshth-2/Datasets...     BT.2020      9   \n",
       "\n",
       "     Width  start_time  end_time  \n",
       "0        5           0        13  \n",
       "1        5           0        53  \n",
       "2        6           0       157  \n",
       "3        2           0       335  \n",
       "4        4           0       400  \n",
       "...    ...         ...       ...  \n",
       "3474     0           0        72  \n",
       "3475     0           0        13  \n",
       "3476     0           0        31  \n",
       "3477     2           0        16  \n",
       "3478     0           0        92  \n",
       "\n",
       "[3479 rows x 9 columns]"
      ]
     },
     "execution_count": 62,
     "metadata": {},
     "output_type": "execute_result"
    }
   ],
   "source": [
    "df_hdr_vertical"
   ]
  },
  {
   "cell_type": "code",
   "execution_count": 63,
   "metadata": {},
   "outputs": [
    {
     "data": {
      "text/plain": [
       "'/media/ss223464/Expansion1/Shreshth-2/Datasets/Vimeo/10k_word_raw/754376982_13.mp4'"
      ]
     },
     "execution_count": 63,
     "metadata": {},
     "output_type": "execute_result"
    }
   ],
   "source": [
    "#check if the video is actuall HDR\n",
    "\n",
    "df_temp_hdr = pd.read_csv(\"csv_files/True_HDR_Vertical_Shorts_list.csv\")\n",
    "df_temp_hdr[\"Base_Path\"][0]+df_temp_hdr[\"Name(+Duration)\"][0]"
   ]
  },
  {
   "attachments": {},
   "cell_type": "markdown",
   "metadata": {},
   "source": [
    "### Sanity check for all True HDR Shorts videos \n"
   ]
  },
  {
   "cell_type": "code",
   "execution_count": 54,
   "metadata": {},
   "outputs": [],
   "source": [
    "# collect all the video meta data and information \n",
    "# Simply all Key values in the csv  \n",
    "\n",
    "import subprocess\n",
    "import json \n",
    "\n",
    "#!mediainfo '/media/ss223464/Expansion/Shreshth_LIVE/Datasets/YT-HDR/HDR_#Shorts_YT_keywords_8M_10kwords/xvi3bEmCCDs_41.webm'\n",
    "    \n",
    "# You can now use the 'info_dict' variable to access the information in a structured way\n",
    "def get_info_dict(file_name):\n",
    "        \n",
    "    ''' Typical Output\n",
    "    General\n",
    "    Complete name                            : /media/ss223464/Expansion/Shreshth_LIVE/Datasets/YT-HDR/HDR_#Shorts_YT_keywords_8M_10kwords/xvi3bEmCCDs_41.webm\n",
    "    Format                                   : WebM\n",
    "    Format version                           : Version 4\n",
    "    File size                                : 107 MiB\n",
    "    Duration                                 : 40 s 833 ms\n",
    "    Overall bit rate                         : 22.0 Mb/s\n",
    "    Writing application                      : google/video-file\n",
    "    Writing library                          : google/video-file\n",
    "\n",
    "    Video\n",
    "    ID                                       : 1\n",
    "    Format                                   : VP9\n",
    "    HDR format                               : SMPTE ST 2086, HDR10 compatible\n",
    "    Codec ID                                 : V_VP9\n",
    "    Duration                                 : 40 s 833 ms\n",
    "    Bit rate                                 : 21.1 Mb/s\n",
    "    Width                                    : 2 160 pixels\n",
    "    Height                                   : 3 840 pixels\n",
    "    Display aspect ratio                     : 0.562\n",
    "    Frame rate mode                          : Constant\n",
    "    Frame rate                               : 24.000 FPS\n",
    "    Color space                              : YUV\n",
    "    Bits/(Pixel*Frame)                       : 0.106\n",
    "    Stream size                              : 103 MiB (96%)\n",
    "    Language                                 : English\n",
    "    Default                                  : Yes\n",
    "    Forced                                   : No\n",
    "    Color range                              : Limited\n",
    "    Color primaries                          : BT.2020\n",
    "    Transfer characteristics                 : HLG\n",
    "    Matrix coefficients                      : BT.2020 non-constant\n",
    "    Mastering display color primaries        : Display P3\n",
    "    Mastering display luminance              : min: 0.0050 cd/m2, max: 1000 cd/m2\n",
    "    '''\n",
    "\n",
    "    #\"mediainfo /media/ss223464/Expansion/Shreshth_LIVE/Datasets/YT-HDR/HDR_#Shorts_YT_keywords_8M_10kwords/xvi3bEmCCDs_41.webm\"\n",
    "    output = subprocess.check_output(\"mediainfo \"+file_name, shell=True).decode()\n",
    "    \n",
    "    info_dict = {}\n",
    "    current_section = None\n",
    "\n",
    "    lines = output.split('\\n')\n",
    "    for line in lines:\n",
    "        line = line.strip()\n",
    "        if line:\n",
    "            if ':' not in line:\n",
    "                section = line[:]\n",
    "                info_dict[section] = {}\n",
    "                current_section = section\n",
    "            elif ':' in line:\n",
    "                key, value = line.split(':', 1)\n",
    "                info_dict[current_section][key.strip()] = value.strip()\n",
    "\n",
    "    #Remove un-necessary keys \n",
    "    \"\"\"\n",
    "    'Complete name' in General section\n",
    "    'ID' in video section \n",
    "    'Height' in video section \n",
    "    'Width' in video section \n",
    "    \"\"\"\n",
    "    info_dict['General'].pop('Complete name')\n",
    "    info_dict['Video'].pop('ID')\n",
    "    info_dict['Video'].pop('Width')\n",
    "    info_dict['Video'].pop('Height')\n",
    "\n",
    "    return info_dict\n",
    "temp_info_keys = [\n",
    "        \"Format\"\n",
    "        \"Format version\"\n",
    "        \"File size\"\n",
    "        \"Duration\"\n",
    "        \"Overall bit rate\"\n",
    "        \"Writing application\"\n",
    "        \"Writing library\"\n",
    "        \"Format\"\n",
    "        \"HDR format\"\n",
    "        \"Codec ID\"\n",
    "        \"Duration\"\n",
    "        \"Bit rate\"\n",
    "        \"Width\"\n",
    "        \"Height\"\n",
    "        \"Display aspect ratio\"\n",
    "        \"Frame rate mode\"\n",
    "        \"Frame rate\"\n",
    "        \"Color space\"\n",
    "        \"Bits/(Pixel*Frame)\"\n",
    "        \"Stream size\"\n",
    "        \"Language\"\n",
    "        \"Default\"\n",
    "        \"Forced\"\n",
    "        \"Color range\"\n",
    "        \"Color primaries\"\n",
    "        \"Transfer characteristics\"\n",
    "        \"Matrix coefficients\"\n",
    "        \"Mastering display color primaries\"\n",
    "        \"Mastering display luminance\"\n",
    "    ]\n",
    "    \n",
    "def update_csv_info(df_csv):\n",
    "    list_info_dict = []\n",
    "    for i,name in enumerate(df_csv[\"Name(+Duration)\"].to_list()):\n",
    "        file_name = df_csv[\"Base_Path\"][i]+name\n",
    "        info_dict = get_info_dict(file_name)\n",
    "        #merge the \"General\" and \"Video\" sections\n",
    "        list_info_dict.append({**info_dict[\"General\"], **info_dict[\"Video\"]})\n",
    "\n",
    "    #Add keys as new columns in the existing dataframe.    \n",
    "    for i in temp_info_keys:\n",
    "        df_csv[i] = ''\n",
    "\n",
    "    #add the values from info dict \n",
    "    for i,info_dict in enumerate(list_info_dict):\n",
    "        df_csv.loc[i, list(info_dict.keys())] = list(info_dict.values())\n",
    "\n",
    "    return df_csv\n"
   ]
  },
  {
   "cell_type": "code",
   "execution_count": 55,
   "metadata": {},
   "outputs": [
    {
     "ename": "KeyError",
     "evalue": "'Video'",
     "output_type": "error",
     "traceback": [
      "\u001b[0;31m---------------------------------------------------------------------------\u001b[0m",
      "\u001b[0;31mKeyError\u001b[0m                                  Traceback (most recent call last)",
      "\u001b[1;32m/home/ss223464/Desktop/LIVE/Video_Scrap/Vimeo_Search_Down/analyze_YT-HDR.ipynb Cell 25\u001b[0m line \u001b[0;36m2\n\u001b[1;32m     <a href='vscode-notebook-cell://ssh-remote%2Bece-a52008.ece.utexas.edu/home/ss223464/Desktop/LIVE/Video_Scrap/Vimeo_Search_Down/analyze_YT-HDR.ipynb#X36sdnNjb2RlLXJlbW90ZQ%3D%3D?line=17'>18</a>\u001b[0m     \u001b[39mprint\u001b[39m(info_dict[\u001b[39m\"\u001b[39m\u001b[39mVideo\u001b[39m\u001b[39m\"\u001b[39m][\u001b[39m\"\u001b[39m\u001b[39mCodec ID\u001b[39m\u001b[39m\"\u001b[39m])\n\u001b[1;32m     <a href='vscode-notebook-cell://ssh-remote%2Bece-a52008.ece.utexas.edu/home/ss223464/Desktop/LIVE/Video_Scrap/Vimeo_Search_Down/analyze_YT-HDR.ipynb#X36sdnNjb2RlLXJlbW90ZQ%3D%3D?line=19'>20</a>\u001b[0m \u001b[39m#update csv and save\u001b[39;00m\n\u001b[0;32m---> <a href='vscode-notebook-cell://ssh-remote%2Bece-a52008.ece.utexas.edu/home/ss223464/Desktop/LIVE/Video_Scrap/Vimeo_Search_Down/analyze_YT-HDR.ipynb#X36sdnNjb2RlLXJlbW90ZQ%3D%3D?line=20'>21</a>\u001b[0m df_temp \u001b[39m=\u001b[39m update_csv_info(df_temp)\n\u001b[1;32m     <a href='vscode-notebook-cell://ssh-remote%2Bece-a52008.ece.utexas.edu/home/ss223464/Desktop/LIVE/Video_Scrap/Vimeo_Search_Down/analyze_YT-HDR.ipynb#X36sdnNjb2RlLXJlbW90ZQ%3D%3D?line=21'>22</a>\u001b[0m df_temp\u001b[39m.\u001b[39mto_csv(i)\n",
      "\u001b[1;32m/home/ss223464/Desktop/LIVE/Video_Scrap/Vimeo_Search_Down/analyze_YT-HDR.ipynb Cell 25\u001b[0m line \u001b[0;36m1\n\u001b[1;32m    <a href='vscode-notebook-cell://ssh-remote%2Bece-a52008.ece.utexas.edu/home/ss223464/Desktop/LIVE/Video_Scrap/Vimeo_Search_Down/analyze_YT-HDR.ipynb#X36sdnNjb2RlLXJlbW90ZQ%3D%3D?line=113'>114</a>\u001b[0m \u001b[39mfor\u001b[39;00m i,name \u001b[39min\u001b[39;00m \u001b[39menumerate\u001b[39m(df_csv[\u001b[39m\"\u001b[39m\u001b[39mName(+Duration)\u001b[39m\u001b[39m\"\u001b[39m]\u001b[39m.\u001b[39mto_list()):\n\u001b[1;32m    <a href='vscode-notebook-cell://ssh-remote%2Bece-a52008.ece.utexas.edu/home/ss223464/Desktop/LIVE/Video_Scrap/Vimeo_Search_Down/analyze_YT-HDR.ipynb#X36sdnNjb2RlLXJlbW90ZQ%3D%3D?line=114'>115</a>\u001b[0m     file_name \u001b[39m=\u001b[39m df_csv[\u001b[39m\"\u001b[39m\u001b[39mBase_Path\u001b[39m\u001b[39m\"\u001b[39m][i]\u001b[39m+\u001b[39mname\n\u001b[0;32m--> <a href='vscode-notebook-cell://ssh-remote%2Bece-a52008.ece.utexas.edu/home/ss223464/Desktop/LIVE/Video_Scrap/Vimeo_Search_Down/analyze_YT-HDR.ipynb#X36sdnNjb2RlLXJlbW90ZQ%3D%3D?line=115'>116</a>\u001b[0m     info_dict \u001b[39m=\u001b[39m get_info_dict(file_name)\n\u001b[1;32m    <a href='vscode-notebook-cell://ssh-remote%2Bece-a52008.ece.utexas.edu/home/ss223464/Desktop/LIVE/Video_Scrap/Vimeo_Search_Down/analyze_YT-HDR.ipynb#X36sdnNjb2RlLXJlbW90ZQ%3D%3D?line=116'>117</a>\u001b[0m     \u001b[39m#merge the \"General\" and \"Video\" sections\u001b[39;00m\n\u001b[1;32m    <a href='vscode-notebook-cell://ssh-remote%2Bece-a52008.ece.utexas.edu/home/ss223464/Desktop/LIVE/Video_Scrap/Vimeo_Search_Down/analyze_YT-HDR.ipynb#X36sdnNjb2RlLXJlbW90ZQ%3D%3D?line=117'>118</a>\u001b[0m     list_info_dict\u001b[39m.\u001b[39mappend({\u001b[39m*\u001b[39m\u001b[39m*\u001b[39minfo_dict[\u001b[39m\"\u001b[39m\u001b[39mGeneral\u001b[39m\u001b[39m\"\u001b[39m], \u001b[39m*\u001b[39m\u001b[39m*\u001b[39minfo_dict[\u001b[39m\"\u001b[39m\u001b[39mVideo\u001b[39m\u001b[39m\"\u001b[39m]})\n",
      "\u001b[1;32m/home/ss223464/Desktop/LIVE/Video_Scrap/Vimeo_Search_Down/analyze_YT-HDR.ipynb Cell 25\u001b[0m line \u001b[0;36m7\n\u001b[1;32m     <a href='vscode-notebook-cell://ssh-remote%2Bece-a52008.ece.utexas.edu/home/ss223464/Desktop/LIVE/Video_Scrap/Vimeo_Search_Down/analyze_YT-HDR.ipynb#X36sdnNjb2RlLXJlbW90ZQ%3D%3D?line=67'>68</a>\u001b[0m \u001b[39m\"\"\"\u001b[39;00m\n\u001b[1;32m     <a href='vscode-notebook-cell://ssh-remote%2Bece-a52008.ece.utexas.edu/home/ss223464/Desktop/LIVE/Video_Scrap/Vimeo_Search_Down/analyze_YT-HDR.ipynb#X36sdnNjb2RlLXJlbW90ZQ%3D%3D?line=68'>69</a>\u001b[0m \u001b[39m'Complete name' in General section\u001b[39;00m\n\u001b[1;32m     <a href='vscode-notebook-cell://ssh-remote%2Bece-a52008.ece.utexas.edu/home/ss223464/Desktop/LIVE/Video_Scrap/Vimeo_Search_Down/analyze_YT-HDR.ipynb#X36sdnNjb2RlLXJlbW90ZQ%3D%3D?line=69'>70</a>\u001b[0m \u001b[39m'ID' in video section \u001b[39;00m\n\u001b[1;32m     <a href='vscode-notebook-cell://ssh-remote%2Bece-a52008.ece.utexas.edu/home/ss223464/Desktop/LIVE/Video_Scrap/Vimeo_Search_Down/analyze_YT-HDR.ipynb#X36sdnNjb2RlLXJlbW90ZQ%3D%3D?line=70'>71</a>\u001b[0m \u001b[39m'Height' in video section \u001b[39;00m\n\u001b[1;32m     <a href='vscode-notebook-cell://ssh-remote%2Bece-a52008.ece.utexas.edu/home/ss223464/Desktop/LIVE/Video_Scrap/Vimeo_Search_Down/analyze_YT-HDR.ipynb#X36sdnNjb2RlLXJlbW90ZQ%3D%3D?line=71'>72</a>\u001b[0m \u001b[39m'Width' in video section \u001b[39;00m\n\u001b[1;32m     <a href='vscode-notebook-cell://ssh-remote%2Bece-a52008.ece.utexas.edu/home/ss223464/Desktop/LIVE/Video_Scrap/Vimeo_Search_Down/analyze_YT-HDR.ipynb#X36sdnNjb2RlLXJlbW90ZQ%3D%3D?line=72'>73</a>\u001b[0m \u001b[39m\"\"\"\u001b[39;00m\n\u001b[1;32m     <a href='vscode-notebook-cell://ssh-remote%2Bece-a52008.ece.utexas.edu/home/ss223464/Desktop/LIVE/Video_Scrap/Vimeo_Search_Down/analyze_YT-HDR.ipynb#X36sdnNjb2RlLXJlbW90ZQ%3D%3D?line=73'>74</a>\u001b[0m info_dict[\u001b[39m'\u001b[39m\u001b[39mGeneral\u001b[39m\u001b[39m'\u001b[39m]\u001b[39m.\u001b[39mpop(\u001b[39m'\u001b[39m\u001b[39mComplete name\u001b[39m\u001b[39m'\u001b[39m)\n\u001b[0;32m---> <a href='vscode-notebook-cell://ssh-remote%2Bece-a52008.ece.utexas.edu/home/ss223464/Desktop/LIVE/Video_Scrap/Vimeo_Search_Down/analyze_YT-HDR.ipynb#X36sdnNjb2RlLXJlbW90ZQ%3D%3D?line=74'>75</a>\u001b[0m info_dict[\u001b[39m'\u001b[39;49m\u001b[39mVideo\u001b[39;49m\u001b[39m'\u001b[39;49m]\u001b[39m.\u001b[39mpop(\u001b[39m'\u001b[39m\u001b[39mID\u001b[39m\u001b[39m'\u001b[39m)\n\u001b[1;32m     <a href='vscode-notebook-cell://ssh-remote%2Bece-a52008.ece.utexas.edu/home/ss223464/Desktop/LIVE/Video_Scrap/Vimeo_Search_Down/analyze_YT-HDR.ipynb#X36sdnNjb2RlLXJlbW90ZQ%3D%3D?line=75'>76</a>\u001b[0m info_dict[\u001b[39m'\u001b[39m\u001b[39mVideo\u001b[39m\u001b[39m'\u001b[39m]\u001b[39m.\u001b[39mpop(\u001b[39m'\u001b[39m\u001b[39mWidth\u001b[39m\u001b[39m'\u001b[39m)\n\u001b[1;32m     <a href='vscode-notebook-cell://ssh-remote%2Bece-a52008.ece.utexas.edu/home/ss223464/Desktop/LIVE/Video_Scrap/Vimeo_Search_Down/analyze_YT-HDR.ipynb#X36sdnNjb2RlLXJlbW90ZQ%3D%3D?line=76'>77</a>\u001b[0m info_dict[\u001b[39m'\u001b[39m\u001b[39mVideo\u001b[39m\u001b[39m'\u001b[39m]\u001b[39m.\u001b[39mpop(\u001b[39m'\u001b[39m\u001b[39mHeight\u001b[39m\u001b[39m'\u001b[39m)\n",
      "\u001b[0;31mKeyError\u001b[0m: 'Video'"
     ]
    }
   ],
   "source": [
    "# For example, print the complete name and video format\n",
    "\n",
    "#list of all csv: \n",
    "\n",
    "list_csv = glob.glob(\"csv_files/*.csv\")\n",
    "\n",
    "# check if the video is actual HDR\n",
    "\n",
    "for i in list_csv:\n",
    "    df_temp = pd.read_csv(i)\n",
    "\n",
    "    if False:\n",
    "        file_name = df_temp[\"Base_Path\"][0]+df_temp[\"Name(+Duration)\"][0]\n",
    "\n",
    "        info_dict = get_info_dict(file_name)\n",
    "\n",
    "        print(info_dict[\"Video\"][\"Format\"])\n",
    "        print(info_dict[\"Video\"][\"Codec ID\"])\n",
    "\n",
    "    #update csv and save\n",
    "    df_temp = update_csv_info(df_temp)\n",
    "    df_temp.to_csv(i)\n",
    "\n"
   ]
  },
  {
   "cell_type": "markdown",
   "metadata": {},
   "source": []
  },
  {
   "cell_type": "markdown",
   "metadata": {},
   "source": [
    "## Data Filtering and Cleaning for SDR-HDR Domain Transalation and HDR-Quality Assessment \n"
   ]
  },
  {
   "cell_type": "code",
   "execution_count": 56,
   "metadata": {},
   "outputs": [],
   "source": [
    "\"\"\" \n",
    "Check True HDR Video \n",
    "\n",
    "\"\"\"\n",
    "\n",
    "import subprocess\n",
    "import json\n",
    "import os\n",
    "import pandas as pd\n",
    "\n",
    "def is_video_hdr(video_path):\n",
    "    \"\"\"\n",
    "    Check if the video at the given path is HDR.\n",
    "    \n",
    "    Args:\n",
    "    - video_path (str): The path to the video file.\n",
    "    \n",
    "    Returns:\n",
    "    - bool: True if the video is HDR, False otherwise.\n",
    "    \"\"\"\n",
    "    cmd = [\n",
    "        \"ffprobe\", \n",
    "        \"-v\", \"error\", \n",
    "        \"-show_streams\",\n",
    "        \"-select_streams\", \"v:0\",\n",
    "        \"-print_format\", \"json\",\n",
    "        video_path\n",
    "    ]\n",
    "    \n",
    "    result = subprocess.run(cmd, capture_output=True, text=True)\n",
    "    video_info = json.loads(result.stdout)\n",
    "\n",
    "    video_stream = video_info[\"streams\"][0]\n",
    "\n",
    "    # Checking some common HDR indicators in the metadata\n",
    "    # This can be extended based on more specific requirements\n",
    "    if (\"color_transfer\" in video_stream and video_stream[\"color_transfer\"] == \"smpte2084\") or \\\n",
    "       (\"color_space\" in video_stream and video_stream[\"color_space\"] in [\"bt2020nc\", \"bt2020c\"]) or \\\n",
    "       (\"bits_per_raw_sample\" in video_stream and int(video_stream[\"bits_per_raw_sample\"]) > 8):\n",
    "        return True\n",
    "\n",
    "    return False\n"
   ]
  },
  {
   "cell_type": "code",
   "execution_count": 5,
   "metadata": {},
   "outputs": [
    {
     "name": "stdout",
     "output_type": "stream",
     "text": [
      "All data chunks:  ['csv_files/True_Vertical_Shorts_list.csv', 'csv_files/True_HDR_Vertical_Shorts_list_+4sec.csv', 'csv_files/Analyzed_HDR_Shorts_list.csv', 'csv_files/True_HDR_Vertical_Shorts_list.csv', 'csv_files/True_HDR_Shorts_list.csv', 'csv_files/Analyzed_HDR_Shorts_list_YT_Removed.csv', 'csv_files/True_Vertical_Shorts_list_SDR_+4sec.csv']\n"
     ]
    },
    {
     "data": {
      "text/plain": [
       "'\\n# Converting in xlsx\\nfor i in list_csv:\\n    temp_xls = pd.read_csv(i)\\n    if True:\\n        temp_xls.to_excel(i.split(\".\")[0]+\".xlsx\", index=False)\\n'"
      ]
     },
     "execution_count": 5,
     "metadata": {},
     "output_type": "execute_result"
    }
   ],
   "source": [
    "\"\"\"\n",
    "Read All CSV files for data. \n",
    "\n",
    "\"\"\"\n",
    "import glob \n",
    "import pandas as pd\n",
    "\n",
    "\n",
    "list_csv = glob.glob(\"csv_files/*.csv\")\n",
    "#drop if has _Batch_ in the name\n",
    "list_csv = [i for i in list_csv if \"_Batch_\" not in i]\n",
    "print(\"All data chunks: \", list_csv)\n",
    "\n",
    "\n",
    "\"\"\"\n",
    "# Converting in xlsx\n",
    "for i in list_csv:\n",
    "    temp_xls = pd.read_csv(i)\n",
    "    if True:\n",
    "        temp_xls.to_excel(i.split(\".\")[0]+\".xlsx\", index=False)\n",
    "\"\"\""
   ]
  },
  {
   "cell_type": "code",
   "execution_count": 24,
   "metadata": {},
   "outputs": [
    {
     "name": "stdout",
     "output_type": "stream",
     "text": [
      "True_Vertical_Shorts_list.csv 3567\n",
      "True_HDR_Vertical_Shorts_list_+4sec.csv 0\n",
      "Analyzed_HDR_Shorts_list.csv 8666\n",
      "True_Vertical_Shorts_list_SDR_+4sec (copy).csv 644\n",
      "True_HDR_Vertical_Shorts_list.csv 2923\n",
      "True_HDR_Shorts_list.csv 7784\n",
      "Analyzed_HDR_Shorts_list_YT_Removed.csv 472\n",
      "True_Vertical_Shorts_list_SDR_+4sec.csv 644\n",
      "True_Vertical_Shorts_list.csv 0\n",
      "True_HDR_Vertical_Shorts_list_+4sec.csv 0\n",
      "Analyzed_HDR_Shorts_list.csv 0\n",
      "True_Vertical_Shorts_list_SDR_+4sec (copy).csv 0\n",
      "True_HDR_Vertical_Shorts_list.csv 0\n",
      "True_HDR_Shorts_list.csv 0\n",
      "Analyzed_HDR_Shorts_list_YT_Removed.csv 472\n",
      "True_Vertical_Shorts_list_SDR_+4sec.csv 0\n"
     ]
    }
   ],
   "source": [
    "\"\"\" \n",
    "Read all csv and check the count of videos. \n",
    "\n",
    "\"\"\"\n",
    "for i in list_csv:\n",
    "    temp_csv = pd.read_csv(i)\n",
    "    print(i.split(\"/\")[-1], len(temp_csv))\n",
    "\n",
    "\"\"\" \n",
    "Check if removed csv has any video present other csvs.\n",
    "\n",
    "NOTE- these are separate videos, which are (probably)removed from Youtube platform.\n",
    "NOTE- No overlap between this and other csvs.\n",
    "\"\"\"\n",
    "df_removed = pd.read_csv(\"csv_files/Analyzed_HDR_Shorts_list_YT_Removed.csv\")\n",
    "df_removed[\"ID\"].to_list()\n",
    "for i in list_csv:\n",
    "    temp_csv = pd.read_csv(i)\n",
    "    print(i.split(\"/\")[-1], len(temp_csv[temp_csv[\"ID\"].isin(df_removed[\"ID\"].to_list())]))\n",
    "\n"
   ]
  },
  {
   "cell_type": "code",
   "execution_count": 6,
   "metadata": {},
   "outputs": [
    {
     "name": "stderr",
     "output_type": "stream",
     "text": [
      "100%|██████████| 7784/7784 [00:00<00:00, 189165.56it/s]\n"
     ]
    }
   ],
   "source": [
    "\"\"\" \n",
    "Dealing with just vertical shorts. \n",
    "\"\"\"\n",
    "\n",
    "df_short = pd.read_csv(\"csv_files/Analyzed_HDR_Shorts_list.csv\")\n",
    "df_vertical = pd.read_csv(\"csv_files/True_Vertical_Shorts_list.csv\")\n",
    "df_hdr = pd.read_csv(\"csv_files/True_HDR_Shorts_list.csv\")\n",
    "df_hdr_vertical = pd.read_csv(\"csv_files/True_HDR_Vertical_Shorts_list.csv\")\n",
    "\n",
    "\"\"\"\n",
    "# cleaning columns\n",
    "see = pd.read_csv('csv_files/True_Vertical_Shorts_list.csv', index_col=False)\n",
    "print(see)\n",
    "see.pop('Unnamed: 0.2')\n",
    "see.pop('Unnamed: 0.1')\n",
    "see.pop('Unnamed: 0')\n",
    "see.replace(\"\", float(\"NaN\"), inplace=True)\n",
    "see.dropna(axis=1, how='all')\n",
    "print(see.columns)\n",
    "\"\"\"\n",
    "\n",
    "\n",
    "# Check for HDR csv: \n",
    "\n",
    "#check for all. \n",
    "for i in tqdm(range(len(df_hdr))):\n",
    "    sample_add = df_hdr[\"Base_Path\"][i] + df_hdr[\"Name(+Duration)\"][i]\n",
    "    continue    \n",
    "    if is_video_hdr(sample_add):\n",
    "        #print(f\"{sample_add} is HDR.\")\n",
    "        continue\n",
    "    else:\n",
    "        print(f\"{sample_add} is not HDR.\")\n",
    "        continue\n",
    "\n",
    "    if False:\n",
    "        #also print all meta data of video file \n",
    "        cmd = [\n",
    "            \"ffprobe\", \n",
    "            \"-v\", \"error\", \n",
    "            \"-show_streams\",\n",
    "            \"-select_streams\", \"v:0\",\n",
    "            \"-print_format\", \"json\",\n",
    "            sample_add\n",
    "        ]\n",
    "        result = subprocess.run(cmd, capture_output=True, text=True)\n",
    "        video_info = json.loads(result.stdout)\n",
    "        print(json.dumps(video_info, indent=4))\n",
    "\n"
   ]
  },
  {
   "cell_type": "code",
   "execution_count": 7,
   "metadata": {},
   "outputs": [
    {
     "name": "stdout",
     "output_type": "stream",
     "text": [
      "Total Shorts:  8666\n",
      "Total Vertical Shorts:  3567\n",
      "Total HDR Shorts:  7781\n",
      "Total HDR Vertical Shorts:  2923\n"
     ]
    }
   ],
   "source": [
    "# Drop the above videos from the csv (HDR and Vertical_HDR)\n",
    "\n",
    "drop_names = [\"qrX0jzOecPc_137.webm\",\n",
    "              \"Ffvd5lQdZVI_56.webm\",\n",
    "              \"jx9ZBDxnmIo_201.webm\"]\n",
    "\n",
    "df_hdr = df_hdr[~df_hdr[\"Name(+Duration)\"].isin(drop_names)]\n",
    "df_hdr_vertical = df_hdr_vertical[~df_hdr_vertical[\"Name(+Duration)\"].isin(drop_names)]\n",
    "\n",
    "#Final Count: \n",
    "print(\"Total Shorts: \", len(df_short))\n",
    "print(\"Total Vertical Shorts: \", len(df_vertical))\n",
    "print(\"Total HDR Shorts: \", len(df_hdr))\n",
    "print(\"Total HDR Vertical Shorts: \", len(df_hdr_vertical))\n"
   ]
  },
  {
   "cell_type": "code",
   "execution_count": 8,
   "metadata": {},
   "outputs": [
    {
     "name": "stdout",
     "output_type": "stream",
     "text": [
      "V_VP9    2919\n",
      "av01        4\n",
      "Name: Codec ID, dtype: int64\n",
      "HLG    2753\n",
      "PQ      170\n",
      "Name: Transfer characteristics, dtype: int64\n",
      "BT.2020    2923\n",
      "Name: color_prims, dtype: int64\n",
      "median duration 33.0\n",
      "mean duration 45.11700307902839\n",
      "min duration 2.0\n",
      "max duration 239.0\n",
      "greater than 4 sec 2907\n",
      "4k or above 605\n",
      "1080p or above 2709\n",
      "median bitrate 5.552\n",
      "mean bitrate 9.377128292849813\n",
      "min bitrate 0.318\n",
      "max bitrate 28.7\n",
      "greater than 2  2900\n"
     ]
    },
    {
     "data": {
      "text/plain": [
       "Text(0.5, 1.0, 'Histogram of Bitrate for True HDR Short Videos')"
      ]
     },
     "execution_count": 8,
     "metadata": {},
     "output_type": "execute_result"
    },
    {
     "data": {
      "image/png": "[encoded data removed]",
      "text/plain": [
       "<Figure size 800x800 with 1 Axes>"
      ]
     },
     "metadata": {},
     "output_type": "display_data"
    },
    {
     "data": {
      "image/png": "[encoded data removed]",
      "text/plain": [
       "<Figure size 800x800 with 1 Axes>"
      ]
     },
     "metadata": {},
     "output_type": "display_data"
    }
   ],
   "source": [
    "# Get the HDR_Vertical codec distribution and Tranfer function distribution.\n",
    "print(df_hdr_vertical[\"Codec ID\"].value_counts())\n",
    "print(df_hdr_vertical[\"Transfer characteristics\"].value_counts())\n",
    "print(df_hdr_vertical[\"color_prims\"].value_counts())\n",
    "\n",
    "#duration distribution, mean, median, min, max, and curve \n",
    "print(\"median duration\", df_hdr_vertical[\"end_time\"].median())\n",
    "print(\"mean duration\", df_hdr_vertical[\"end_time\"].mean())\n",
    "print(\"min duration\", df_hdr_vertical[\"end_time\"].min())\n",
    "print(\"max duration\", df_hdr_vertical[\"end_time\"].max())\n",
    "#greater than 10 sec    \n",
    "print(\"greater than 4 sec\", len(df_hdr_vertical[df_hdr_vertical[\"end_time\"]>=4]))\n",
    "\n",
    "#check resolution, how many 4k or above and how many 1080p or below. vertical videos\n",
    "print(\"4k or above\", len(df_hdr_vertical[df_hdr_vertical[\"Height\"]>=3840]))\n",
    "print(\"1080p or above\", len(df_hdr_vertical[df_hdr_vertical[\"Height\"]>=1920]))\n",
    "\n",
    "#plot histogram of runtime data show these statistics in the figure.\n",
    "import numpy as np\n",
    "import matplotlib.pyplot as plt\n",
    "\n",
    "# Create subplots\n",
    "fig, ax1 = plt.subplots(1, 1, figsize=(8, 8))\n",
    "\n",
    "# Plotting the histogram\n",
    "ax1.hist(df_hdr_vertical[\"end_time\"], bins=200, edgecolor='black', alpha=0.5)\n",
    "ax1.set_xlabel('Run times')\n",
    "ax1.set_ylabel('Frequency')\n",
    "ax1.set_title('Histogram of Run times for True HDR Short Videos')\n",
    "#marker at 9 sec\n",
    "ax1.axvline(x=9, color='r', linestyle='--', label='9 sec')\n",
    "\n",
    "#bitrate, get all in Mbps. from Mb/s and kb/s , split from kb/s and convert to float and divide by 1000, gap betweeb first digi and rest of the digits so combining them\n",
    "df_hdr_vertical[\"Bitrate_new\"] = [float(\"\".join(i.split(\"k\")[0].split(\" \")))/1000 if \"k\" in i else float(\"\".join(i.split(\"M\")[0].split(\" \"))) for i in df_hdr_vertical[\"Bit rate\"]]\n",
    "\n",
    "#plot the bitrate distribution\n",
    "print(\"median bitrate\", df_hdr_vertical[\"Bitrate_new\"].median())\n",
    "print(\"mean bitrate\", df_hdr_vertical[\"Bitrate_new\"].mean())\n",
    "print(\"min bitrate\", df_hdr_vertical[\"Bitrate_new\"].min())\n",
    "print(\"max bitrate\", df_hdr_vertical[\"Bitrate_new\"].max())\n",
    "print(\"greater than 2 \", len(df_hdr_vertical[df_hdr_vertical[\"Bitrate_new\"]>=2]))\n",
    "\n",
    "#histogram\n",
    "fig, ax1 = plt.subplots(1, 1, figsize=(8, 8))\n",
    "ax1.hist(df_hdr_vertical[\"Bitrate_new\"], bins=200, edgecolor='black', alpha=0.5)\n",
    "ax1.set_xlabel('Bitrate (Mbps)')\n",
    "ax1.set_ylabel('Frequency')\n",
    "ax1.set_title('Histogram of Bitrate for True HDR Short Videos')\n",
    "\n",
    "\n"
   ]
  },
  {
   "cell_type": "code",
   "execution_count": 9,
   "metadata": {},
   "outputs": [
    {
     "name": "stdout",
     "output_type": "stream",
     "text": [
      "Total HDR Vertical Videos (>=4 sec and >=2 Mbps):  2904\n"
     ]
    }
   ],
   "source": [
    "# Apply all filters found above in HDR Vertical to get total count \n",
    "# duration >=9, bitrate >=2 \n",
    "print(\"Total HDR Vertical Videos (>=4 sec and >=2 Mbps): \",len(df_hdr_vertical[(df_hdr_vertical[\"end_time\"]>=4) & (df_hdr_vertical[\"Bitrate_new\"]>=1)]))"
   ]
  },
  {
   "cell_type": "code",
   "execution_count": 10,
   "metadata": {},
   "outputs": [
    {
     "name": "stdout",
     "output_type": "stream",
     "text": [
      "median frame rate 30.0\n",
      "mean frame rate 38.46722921655834\n",
      "min frame rate 23.048\n",
      "max frame rate 60.0\n",
      "greater than 30  2923\n"
     ]
    },
    {
     "data": {
      "text/plain": [
       "Text(0.5, 1.0, 'Histogram of Frame rate for True HDR Short Videos')"
      ]
     },
     "execution_count": 10,
     "metadata": {},
     "output_type": "execute_result"
    },
    {
     "data": {
      "image/png": "[encoded data removed]",
      "text/plain": [
       "<Figure size 800x800 with 1 Axes>"
      ]
     },
     "metadata": {},
     "output_type": "display_data"
    }
   ],
   "source": [
    "#chekc frame rate \n",
    "#distribution of frame rate, split \" \"[0] and convert to float to get distribution\n",
    "df_hdr_vertical[\"Frame rate_new\"] = [float(i.split(\" \")[0]) for i in df_hdr_vertical[\"Frame rate\"]]\n",
    "print(\"median frame rate\", df_hdr_vertical[\"Frame rate_new\"].median())\n",
    "print(\"mean frame rate\", df_hdr_vertical[\"Frame rate_new\"].mean())\n",
    "print(\"min frame rate\", df_hdr_vertical[\"Frame rate_new\"].min())\n",
    "print(\"max frame rate\", df_hdr_vertical[\"Frame rate_new\"].max())\n",
    "\n",
    "print(\"greater than 30 \", len(df_hdr_vertical[df_hdr_vertical[\"Frame rate_new\"]>=20]))\n",
    "\n",
    "#plot the frame rate distribution\n",
    "fig, ax1 = plt.subplots(1, 1, figsize=(8, 8))\n",
    "ax1.hist(df_hdr_vertical[\"Frame rate_new\"], bins=200, edgecolor='black', alpha=0.5)\n",
    "ax1.set_xlabel('Frame rate')\n",
    "ax1.set_ylabel('Frequency')\n",
    "ax1.set_title('Histogram of Frame rate for True HDR Short Videos')\n"
   ]
  },
  {
   "cell_type": "code",
   "execution_count": null,
   "metadata": {},
   "outputs": [],
   "source": []
  },
  {
   "cell_type": "markdown",
   "metadata": {},
   "source": [
    "# Downloading 4K SDR shorts videos from YT \n",
    "\n"
   ]
  },
  {
   "cell_type": "code",
   "execution_count": 17,
   "metadata": {},
   "outputs": [
    {
     "name": "stdout",
     "output_type": "stream",
     "text": [
      "Total 4k SDR videos:  60920\n",
      "Error in:  /media/ss223464/Expansion/Shreshth_LIVE/Datasets/YT-HDR/SDR_#Shorts_YT_4K_All/LrLuN7bbuW8_84.webm.ytdl\n",
      "Error in:  /media/ss223464/Expansion/Shreshth_LIVE/Datasets/YT-HDR/SDR_#Shorts_YT_4K_All/LrLuN7bbuW8_84.webm.part\n",
      "Error in:  /media/ss223464/Expansion/Shreshth_LIVE/Datasets/YT-HDR/SDR_#Shorts_YT_4K_All/Js-4_13dbuE_215.webm.ytdl\n",
      "Error in:  /media/ss223464/Expansion/Shreshth_LIVE/Datasets/YT-HDR/SDR_#Shorts_YT_4K_All/Js-4_13dbuE_215.webm.part\n",
      "Error in:  /media/ss223464/Expansion/Shreshth_LIVE/Datasets/YT-HDR/SDR_#Shorts_YT_4K_All/Bvi6WPJ5uDQ_215.webm.part\n",
      "Total 4k SDR videos:  24419\n",
      "Not 4K: 36501\n",
      "Other resolutions:  {'3840_2160': 26109, '3840_2026': 1590, '3840_1920': 193, '3840_2080': 1, '1920_2504': 1, '3840_1600': 35, '3238_2160': 10, '3240_2160': 77, '2160_2160': 1583, '1216_2160': 186, '2160_3778': 2, '2026_3840': 1006, '2160_3744': 30, '2160_2880': 432, '2160_2938': 1, '1920_1920': 624, '2160_3140': 3, '2160_2304': 19, '2160_3812': 12, '2024_3840': 7, '1920_3414': 402, '2160_2764': 4, '2160_2700': 229, '2160_3830': 7, '2000_2560': 1, '1774_3840': 14, '2160_3816': 6, '2160_3240': 96, '1728_3840': 39, '3640_2048': 2, '3394_1910': 9, '1728_2160': 111, '2160_2704': 25, '2160_2794': 1, '2154_3840': 6, '1778_3160': 4, '2160_3832': 15, '1836_3264': 18, '1920_3416': 61, '2160_3836': 83, '2880_2160': 193, '2140_3840': 6, '2160_3648': 2, '1920_3412': 76, '2142_3840': 2, '1800_3200': 9, '1726_2160': 66, '2112_3840': 13, '1920_3840': 53, '1760_3840': 1, '2160_3494': 2, '2160_3182': 1, '1772_3840': 16, '1800_2100': 1, '3810_2160': 4, '3480_1920': 4, '2160_2688': 8, '1440_3120': 5, '3464_1948': 2, '3840_1728': 90, '2098_3840': 1, '2158_3840': 57, '2152_3840': 32, '2134_3840': 6, '3412_1920': 299, '3840_2076': 7, '1964_3840': 5, '3360_1804': 1, '2160_3834': 39, '2842_2160': 2, '3360_2100': 9, '1576_2160': 1, '3840_2158': 34, '3480_1348': 1, '3832_2160': 14, '3840_2074': 1, '2704_2028': 6, '3840_1592': 2, '2816_1858': 1, '1774_1774': 1, '3840_2032': 2, '3840_1632': 19, '2144_3840': 8, '3840_1532': 1, '3840_1620': 43, '3840_1864': 3, '3072_1536': 3, '3840_2048': 56, '2080_3696': 1, '3840_510': 1, '3440_1440': 157, '2048_2048': 29, '1776_3840': 26, '3840_2154': 2, '1840_2160': 5, '3840_1608': 21, '3840_1634': 30, '2160_2696': 16, '2156_3840': 6, '3838_2160': 30, '1918_1920': 2, '1920_3640': 2, '3412_1440': 1, '2160_3198': 1, '3840_1610': 3, '608_1080': 19, '2160_2524': 1, '1874_3294': 1, '1440_3114': 2, '1984_3528': 1, '2160_2894': 1, '2148_3840': 3, '1802_1920': 1, '2152_2160': 1, '1888_2304': 3, '1818_3840': 6, '3840_1774': 17, '2160_3824': 9, '1440_3196': 3, '2160_2430': 1, '2144_2160': 3, '3840_1776': 27, '2160_2130': 72, '2160_3312': 1, '1722_2160': 2, '1904_3840': 1, '1980_2192': 1, '3840_2152': 5, '1962_3840': 4, '2560_1920': 22, '3836_2160': 22, '3358_1764': 1, '3840_1780': 1, '3840_1860': 2, '3840_1972': 1, '3840_1934': 2, '3840_1946': 2, '3840_1644': 10, '3840_1954': 1, '3840_1880': 1, '2736_1824': 2, '3840_1826': 1, '2160_2664': 1, '3840_1646': 6, '2160_3838': 30, '2160_3244': 2, '3834_2006': 1, '3840_1782': 3, '2000_2000': 60, '3612_2160': 1, '1080_1920': 11, '2078_2078': 1, '3058_1766': 1, '2700_2160': 4, '3840_1504': 1, '3840_1788': 3, '3840_1928': 2, '1920_3424': 2, '2160_3802': 2, '2160_3200': 1, '1920_1080': 26, '2160_2944': 1, '1736_1772': 1, '3840_2112': 8, '1920_2560': 1, '1440_3186': 1, '1920_3372': 5, '1920_3000': 6, '1920_2900': 13, '2072_3684': 1, '2160_2800': 1, '2160_3600': 3, '3840_1574': 12, '2160_1920': 2, '3840_2022': 2, '5760_2880': 5, '3460_1850': 1, '3840_2024': 10, '1920_1018': 1, '3438_1080': 1, '1746_2160': 1, '2160_3820': 1, '2900_1776': 1, '3072_2048': 7, '2160_2952': 1, '2880_1800': 43, '7000_3500': 1, '1714_2160': 1, '2160_2816': 1, '1868_3840': 2, '1920_3240': 12, '1728_2304': 14, '2160_2930': 2, '2136_3840': 4, '2160_2772': 1, '2160_2592': 4, '1862_1862': 1, '2160_3098': 1, '1888_3840': 2, '3840_1888': 1, '3600_1616': 2, '3840_1370': 8, '2160_2440': 1, '3414_1920': 4, '2160_2854': 1, '2808_2160': 1, '3056_2160': 1, '3840_1838': 1, '2160_3804': 3, '1920_1802': 1, '3326_1870': 1, '1814_3840': 1, '2064_1960': 1, '3236_2160': 5, '2534_2058': 1, '3834_2160': 7, '3840_1606': 9, '3686_2074': 1, '1920_2500': 2, '3840_2070': 24, '3556_2000': 1, '1980_1980': 1, '1800_1920': 2, '3160_2160': 1, '3840_1706': 1, '2668_1832': 1, '1982_1982': 1, '1800_1800': 7, '3200_1800': 13, '2262_2160': 1, '3024_1964': 1, '3840_1080': 8, '2160_3800': 2, '2160_3248': 13, '3138_2092': 1, '2160_2848': 1, '3840_2094': 1, '3242_2160': 1, '3840_2120': 2, '1944_3456': 3, '3840_1382': 1, '2160_3826': 3, '2160_3822': 3, '1920_1980': 1, '1824_3840': 2, '1642_2160': 11, '3816_2160': 6, '1978_2160': 1, '2160_3510': 1, '3644_2160': 1, '3840_2010': 1, '3456_2160': 21, '1526_2160': 2, '2160_2872': 1, '3504_2160': 1, '1846_3304': 1, '1440_3200': 4, '3214_2160': 1, '1720_3840': 1, '2160_2624': 4, '2160_3232': 5, '2000_3000': 5, '1920_3500': 3, '2160_2538': 1, '2000_1920': 1, '3584_2160': 1, '1948_3464': 13, '2044_3840': 1, '570_1080': 3, '1776_3664': 1, '2796_2160': 2, '2592_1944': 5, '3494_2160': 2, '3084_2056': 1, '3248_2160': 2, '1440_2160': 3, '2696_1952': 1, '3250_2160': 2, '3262_2160': 3, '1620_2160': 8, '2544_2160': 1, '2816_2112': 2, '3008_1960': 1, '3388_2160': 2, '2686_1804': 1, '2800_1860': 1, '1232_2160': 1, '2046_3840': 2, '3226_2160': 3, '1482_2160': 1, '2600_1800': 1, '1384_2160': 1, '3830_2160': 6, '3840_1740': 5, '1740_2160': 2, '2896_2160': 1, '2430_2160': 2, '3276_2160': 1, '2848_2136': 1, '2160_3088': 1, '1736_2160': 2, '2160_3468': 1, '3840_1718': 3, '1214_2160': 9, '2604_1956': 1, '3490_2160': 3, '3328_1872': 2, '2160_2878': 3, '1824_3240': 3, '2000_3556': 4, '2160_3326': 1, '2166_2160': 2, '1792_3840': 2, '1866_3840': 1, '2160_2342': 1, '3828_2160': 5, '2160_2890': 1, '2160_3172': 1, '1782_3090': 1, '2044_2440': 1, '2160_3594': 1, '2048_2560': 7, '1910_2160': 1, '2160_3056': 7, '2666_2000': 1, '2894_2160': 1, '3840_2114': 6, '1920_2880': 4, '3838_1926': 1, '3840_1960': 2, '3836_2158': 1, '3444_1444': 1, '3160_1778': 3, '1902_3840': 1, '1966_3840': 1, '2000_3840': 2, '1968_3840': 1, '3360_1880': 1, '2160_3660': 1, '3840_2100': 6, '1778_1778': 1, '1876_2160': 1, '2156_2160': 1, '1752_2160': 1, '3840_1746': 1, '3840_1922': 1, '3840_1968': 5, '3840_2148': 10, '1080_3414': 1, '1952_2160': 1, '2640_1980': 1, '3704_1586': 1, '2818_1848': 1, '3840_1678': 3, '2160_3738': 1, '2080_1920': 1, '3840_1772': 20, '3840_1742': 2, '3840_1760': 2, '3790_2160': 1, '3840_1980': 2, '3840_1696': 1, '2872_2160': 2, '3090_2160': 1, '1920_1962': 20, '2160_3024': 2, '3840_1800': 4, '1140_2160': 1, '2160_3192': 1, '2160_2020': 1, '3838_1816': 1, '2880_1908': 1, '3000_2000': 2, '3840_1508': 1, '3434_1932': 1, '3840_1798': 1, '3840_1708': 1, '2744_1752': 1, '1780_2572': 1, '2160_2668': 1, '3456_1944': 4, '2130_2130': 52, '3840_1814': 2, '3840_1616': 1, '2886_2160': 2, '3840_1770': 3, '3360_1956': 6, '3224_1900': 1, '3824_2160': 7, '2160_3590': 1, '3126_2160': 1, '3832_1696': 1, '1728_3072': 1, '2160_2896': 3, '3456_1728': 1, '3040_2160': 1, '3356_2160': 1, '1920_3422': 4, '3358_2100': 1, '3840_2142': 2, '3840_2134': 1, '2160_2838': 1, '2964_1840': 1, '3840_1850': 2, '1212_2160': 1, '1644_3840': 3, '2160_3202': 1, '2080_2920': 1, '2160_2530': 1, '2732_2048': 1, '2160_2910': 1, '2160_3256': 2, '2160_3050': 1, '3344_2160': 2, '2032_3840': 4, '1796_1796': 1, '2186_1814': 1, '3290_2160': 7, '2160_3462': 5, '2794_2160': 1, '3840_2072': 1, '3024_2160': 1, '2922_2160': 2, '3840_1386': 1, '1840_3264': 1, '2866_2160': 1, '1724_2160': 3, '2160_3474': 1, '2164_2130': 4, '2162_2130': 4, '2052_3648': 1, '2130_2126': 1, '2160_3756': 1, '3840_1832': 1, '2160_3218': 1, '2122_3744': 1, '2060_2060': 2, '2160_2562': 1, '2110_3840': 1, '1080_1632': 1, '3416_1920': 2, '1770_3840': 4, '2160_2390': 1, '3440_1864': 1, '2608_1802': 1, '3770_2160': 1, '3840_2028': 4, '1890_1890': 1, '3838_2158': 2, '3840_1612': 6, '1734_1796': 1, '1732_1794': 1, '3840_2050': 1, '2160_3508': 2, '2202_2160': 1, '2160_3480': 3, '3260_1832': 1, '2038_2040': 1, '3840_2096': 3, '2094_3724': 1, '1736_1736': 1, '1806_2160': 1, '2704_2160': 1, '3792_1580': 2, '2856_1736': 1, '2092_1928': 1, '3212_1440': 1, '3496_2160': 2, '2048_3640': 1, '3840_1604': 3, '1768_3840': 1, '3840_2044': 1, '2160_3692': 1, '1986_1964': 1, '3794_2160': 1, '2820_2160': 2, '3314_2116': 1, '2160_2690': 1, '2184_2160': 2, '2160_3246': 1, '1886_3214': 1, '3840_1900': 1, '3840_1830': 1, '3840_1990': 1, '3624_1250': 1, '3152_1772': 2, '3840_1936': 38, '2160_3280': 1, '1440_1080': 2, '3840_2000': 4, '2988_2160': 1, '3840_2140': 1, '3600_2160': 3, '3840_1664': 1, '2048_3642': 1, '3086_2160': 1, '1778_3840': 3, '3540_2160': 2, '2112_2112': 1, '1920_3410': 5, '2160_2340': 1, '2160_2616': 1, '2160_3288': 2, '2160_3564': 1, '1756_3120': 1, '2160_3534': 1, '2160_2946': 1, '2000_2500': 1, '3342_2160': 1, '2040_3840': 1, '2160_2884': 1, '2206_2160': 1, '2160_2808': 3, '3840_1978': 1, '3182_1440': 1, '3200_1782': 1, '2160_2782': 1, '2160_3426': 1, '1750_2160': 4, '2016_3840': 2, '2160_3276': 1, '1830_3840': 1, '3264_1836': 7, '3840_2156': 3, '3840_2068': 4, '3304_1860': 1, '3760_2160': 2, '1920_2134': 1, '1936_3840': 2, '2160_2400': 1, '2160_3000': 2, '2050_2050': 2, '3100_2160': 1, '3840_476': 1, '3732_2160': 1, '3840_1700': 2, '3538_2160': 1, '2160_3736': 1, '3072_1728': 6, '716_1080': 1, '2558_2006': 1, '2856_2160': 1, '1736_3840': 1, '3132_2160': 1, '3840_1580': 1, '3576_2160': 1, '3742_2160': 1, '1770_2160': 1, '3246_2160': 1, '3840_1866': 1, '2160_2682': 1, '1880_2160': 1, '1836_2160': 1, '1870_2160': 1, '1780_2160': 1, '1788_2160': 1, '1882_2160': 2, '1846_2160': 1, '1778_2160': 1, '1958_2160': 1, '1768_2304': 1, '1922_3410': 13, '3840_1918': 1, '3424_1920': 1, '3840_1440': 3, '2096_3840': 1, '2176_2160': 1, '2160_3828': 1, '2160_3530': 1, '3836_1718': 1, '3572_1888': 1, '3522_2160': 1, '2160_2706': 1, '3840_1820': 1, '3388_1440': 1, '3840_2040': 2, '2064_3840': 1, '3216_2160': 1, '3834_1690': 1, '2058_2058': 4, '1908_1908': 1, '3840_1638': 1, '3774_2160': 1, '3646_2160': 1, '3840_1750': 1, '2058_3840': 3, '3840_1502': 1, '2792_2160': 1, '3702_2160': 1, '3008_1992': 2, '2132_3840': 2, '1940_3452': 1, '2160_3454': 1, '2194_2160': 1, '7680_3482': 1, '1230_2160': 1, '2336_2160': 2, '3840_1722': 1, '3840_1778': 3, '1862_2160': 1, '2160_3264': 3, '2030_3840': 1, '3840_1636': 3, '2160_3242': 4, '1622_2160': 1, '1730_2160': 1, '2160_3158': 1, '1784_2160': 1, '1772_2160': 1, '2160_3234': 2, '1796_2160': 1, '1860_2160': 1, '1656_2160': 1, '2160_3356': 1, '2304_2160': 1, '3840_2108': 2, '2160_3254': 1, '2158_2160': 5, '2528_2160': 1, '2160_3110': 1, '1818_3222': 11, '3472_1952': 1, '1734_3840': 1, '2000_2828': 1, '2160_3810': 1, '2160_3052': 1, '1952_3840': 2, '2160_2394': 1, '2080_3836': 1, '1716_2160': 1, '3832_2156': 2, '2160_3252': 1, '3000_2160': 2, '1808_3282': 1, '3592_1512': 1, '3840_2128': 1, '3680_2072': 1, '2882_2160': 1, '2506_2160': 1, '3666_1442': 1, '3356_1884': 1, '2160_2730': 1, '3624_2160': 1, '3840_1720': 3, '3840_2098': 1, '3328_1080': 1, '2160_2292': 1, '3840_2116': 1, '2084_3706': 1, '2160_2354': 1, '3840_2146': 2, '1736_3762': 1, '1920_3374': 1, '2196_1856': 1, '3780_2160': 1, '3820_2160': 2, '3840_1976': 3, '3000_1946': 1, '3088_2160': 1, '3256_2160': 2, '2200_2160': 1, '2160_2780': 1, '2488_2160': 2, '2492_2160': 1, '2344_2160': 1, '3648_2052': 1, '1920_3408': 1, '2730_2160': 1, '1920_1880': 1, '3840_2144': 1, '3360_2160': 1, '2352_2160': 1, '3232_2160': 2, '3830_2016': 1, '2750_2160': 1, '3840_1282': 1, '2926_2160': 1, '3452_2160': 1, '2446_2160': 2, '3120_2160': 1, '2938_2160': 1, '2634_2160': 1, '1920_3086': 1, '3840_1650': 1, '3840_1878': 1, '3832_1708': 1, '3776_1920': 1, '3776_1840': 1, '2080_3698': 1, '2160_3770': 1, '1920_1734': 1, '2018_2160': 1, '2448_1836': 1, '2638_2160': 1, '1842_2304': 3, '1512_3272': 1, '2400_1800': 1, '2160_2478': 1, '1740_3840': 1, '2468_2160': 2, '1900_1900': 2, '3364_2160': 1, '1036_3840': 1, '3840_2104': 1, '3840_1784': 1, '3840_1602': 1, '1916_3408': 2, '3514_2160': 1, '2160_3618': 1, '3756_2160': 1, '2410_2160': 1, '3840_1628': 1, '3840_1796': 1, '3252_2160': 1, '3360_1440': 2, '2160_3678': 1, '3072_1968': 1, '3240_1824': 1, '3008_2000': 1, '2536_2160': 1, '1956_2160': 1, '2956_2160': 1, '2234_2058': 1, '3488_1952': 1, '2376_2160': 1, '2142_2858': 1, '1808_3840': 1, '2080_3700': 1, '2952_2160': 1, '3840_1584': 1, '3738_2160': 1, '3840_1790': 1, '2028_3840': 2, '2160_3084': 1, '2160_3180': 1, '1752_3112': 1, '3840_2136': 1, '3840_1590': 1, '1648_3840': 1, '1920_3760': 1, '1440_3116': 1, '2016_2696': 1, '1776_3156': 1, '3584_2048': 1, '3480_2160': 1, '1816_1920': 1, '1742_1920': 1, '2160_2996': 1, '3840_1694': 1, '3840_1926': 1, '3464_2160': 1, '2748_1874': 1, '3840_2042': 1, '7296_3648': 1, '1920_3456': 1, '3072_1842': 1, '3790_2134': 1, '1920_1848': 1, '1924_1924': 1, '3216_1500': 1, '1920_864': 1, '2704_2032': 1, '2160_2172': 1, '1782_2160': 1, '3840_1930': 1, '2432_1792': 1, '1884_2160': 1, '3360_1080': 1, '3834_1770': 1, '3840_1350': 1, '3264_2160': 1, '3812_2160': 2, '3714_2160': 1, '3432_1976': 1, '2160_2560': 1, '2160_3742': 1, '3816_2076': 1, '3840_1544': 1, '3472_2160': 1, '3840_1792': 5, '3840_1974': 1, '3006_2160': 1, '1736_2200': 1, '3840_1802': 1, '2160_3458': 1, '2160_3456': 15, '2160_2976': 1, '3840_2124': 1, '2160_2786': 1, '3802_2160': 1, '2160_3680': 1, '2026_2160': 2, '2090_2160': 1, '3030_2160': 1, '1728_2608': 1, '2160_3342': 1, '3272_1512': 1, '1920_1774': 1, '2500_2072': 1, '2104_3840': 1, '2160_3054': 1, '2160_2576': 1, '3840_810': 1, '3840_2060': 2, '1834_3260': 1, '1280_720': 1, '1920_2060': 1, '3072_1620': 1, '2448_2160': 1, '2222_2128': 1, '3520_1080': 1, '1792_2304': 1, '3360_1776': 1, '1782_3160': 1, '3840_2090': 2, '2342_2160': 1, '3200_1750': 1, '3412_1462': 1, '2932_2160': 1, '3082_1080': 1, '2160_3156': 1, '2160_3310': 1, '1972_3186': 1, '2160_2396': 1, '3796_2160': 1, '2150_1930': 1, '3400_1962': 1, '2664_1976': 1, '2160_3686': 1, '2160_3808': 1, '2424_2160': 1, '3840_1660': 1, '1800_2250': 1, '2160_3814': 2, '3600_2026': 1, '2160_3072': 1, '3840_1882': 1, '2160_3790': 1, '3326_2160': 1, '2354_1786': 1, '3478_2014': 1, '2160_3300': 1, '2234_2160': 1, '3840_1912': 1, '1972_2160': 1, '3526_1512': 1, '3272_1678': 1, '2104_2160': 1, '1920_3228': 1, '3072_1080': 1, '2616_2160': 1, '2160_3724': 1, '1998_3552': 1, '2158_3120': 1, '2048_3072': 1, '2000_2200': 1, '5376_2688': 1, '3840_1862': 1, '3244_2160': 1, '3840_1686': 1, '2150_3800': 1, '2160_3662': 1, '2160_2698': 1, '2456_2160': 1, '2160_3238': 1, '3450_2160': 1, '1864_3840': 1, '1620_1080': 1, '3826_2160': 1, '3168_1940': 1, '2900_1838': 1, '3840_1640': 1, '2864_1908': 1, '3238_1734': 1, '1920_1764': 1, '3778_2160': 1, '1648_2160': 1, '1848_3840': 1, '2168_2160': 1, '3490_2082': 1, '3840_1744': 1, '2604_2110': 1, '1920_3428': 1, '3840_1698': 1, '3566_2160': 1, '3840_2138': 1, '2000_3600': 1, '3840_1868': 1, '2852_2160': 1, '1874_1922': 1, '2890_1870': 1, '2950_1968': 1, '2160_3294': 1, '2122_2160': 1, '3502_1990': 1}\n"
     ]
    }
   ],
   "source": [
    "# reading the videos from downloaded folder and checking the resolution. dont use cv2 \n",
    "import os \n",
    "from glob import glob \n",
    "import subprocess\n",
    "import json\n",
    "import warnings \n",
    "warnings.filterwarnings(\"ignore\")\n",
    "\n",
    "\n",
    "core_4k_sdr_videos = [i for i in glob(\"/media/ss223464/Expansion/Shreshth_LIVE/Datasets/YT-HDR/SDR_#Shorts_YT_4K_All/*\", recursive=True) if \"webm\" in i or \"mp4\" in i]\n",
    "print(\"Total 4k SDR videos: \", len(core_4k_sdr_videos))\n",
    "\n",
    "#check the resolution of all videos  (vertical)\n",
    "total_vertical_4k = 0\n",
    "other_resolutions = {}\n",
    "for i in core_4k_sdr_videos:\n",
    "    # using ffprobe \n",
    "\n",
    "    cmd = [\n",
    "        \"ffprobe\", \n",
    "        \"-v\", \"error\", \n",
    "        \"-show_streams\",\n",
    "        \"-select_streams\", \"v:0\",\n",
    "        \"-print_format\", \"json\",\n",
    "        i\n",
    "    ]\n",
    "    try: \n",
    "        result = subprocess.run(cmd, capture_output=True, text=True)\n",
    "        video_info = json.loads(result.stdout)\n",
    "        width = int(video_info[\"streams\"][0][\"width\"])\n",
    "        height = int(video_info[\"streams\"][0][\"height\"])\n",
    "    except:\n",
    "        print(\"Error in: \", i)\n",
    "        continue\n",
    "\n",
    "    if height >= 3840 and width >= 2160:\n",
    "        total_vertical_4k += 1\n",
    "    else:\n",
    "        other_resolutions[str(width)+\"_\"+str(height)] = other_resolutions.get(str(width)+\"_\"+str(height), 0) + 1\n",
    "\n",
    "    \n",
    "\n",
    "print(\"Total 4k SDR videos: \", total_vertical_4k)\n",
    "print(\"Not 4K:\", len(core_4k_sdr_videos)-total_vertical_4k)\n",
    "print(\"Other resolutions: \", other_resolutions)\n",
    "\n"
   ]
  },
  {
   "cell_type": "code",
   "execution_count": null,
   "metadata": {},
   "outputs": [],
   "source": []
  },
  {
   "cell_type": "code",
   "execution_count": null,
   "metadata": {},
   "outputs": [],
   "source": []
  },
  {
   "cell_type": "markdown",
   "metadata": {},
   "source": [
    "### COPY All Vertical HDR and SDR Vertical videos in a Separate folder to check manually. \n",
    "\n",
    "Get All the videos with duration >= 4sec. \n",
    "\n",
    "\n",
    "- Youtube: \n",
    "    - Frame rate is not tempered in HDR videos. So dont filter based on it. \n",
    "    - Bitrate matters, but since YT will give raw videos so dont filter. \n",
    "    - Duration Matters - filter with >=4 sec. \n",
    "    - Resolution matters, but I downloaded highest and YT will give raw so don't filter.\n",
    "    \n"
   ]
  },
  {
   "cell_type": "code",
   "execution_count": 11,
   "metadata": {},
   "outputs": [
    {
     "name": "stdout",
     "output_type": "stream",
     "text": [
      "2907\n"
     ]
    },
    {
     "name": "stderr",
     "output_type": "stream",
     "text": [
      "100%|██████████| 2907/2907 [00:00<00:00, 62723.28it/s]\n"
     ]
    }
   ],
   "source": [
    "df_hdr_vertical = df_hdr_vertical[(df_hdr_vertical[\"end_time\"]>=4)]\n",
    "\n",
    "# Save the final csv \n",
    "df_hdr_vertical.to_csv(\"csv_files/True_HDR_Vertical_Shorts_list_+4sec.csv\", index=False)\n",
    "if False:\n",
    "    df_hdr_vertical.to_excel(\"csv_files/True_HDR_Vertical_Shorts_list_+4sec.xlsx\", index=False)\n",
    "# Copy all videos in a separate folder\n",
    "print(len(df_hdr_vertical))\n",
    "import shutil\n",
    "# reset the index \n",
    "df_hdr_vertical = df_hdr_vertical.reset_index(drop=True)\n",
    "\n",
    "for i in tqdm(range(len(df_hdr_vertical))):\n",
    "    sample_add = df_hdr_vertical[\"Base_Path\"][i] + df_hdr_vertical[\"Name(+Duration)\"][i]\n",
    "    try:\n",
    "        # copy if the video is not already present\n",
    "        if not os.path.exists(\"/\".join(df_hdr_vertical[\"Base_Path\"][i].split('/')[0:-2])+\"/HDR_#Shorts_YT_True_Vertical_HDR_4sec/\"+df_hdr_vertical[\"Name(+Duration)\"][i]):\n",
    "            shutil.copy(sample_add, \"/\".join(df_hdr_vertical[\"Base_Path\"][i].split('/')[0:-2])+\"/HDR_#Shorts_YT_True_Vertical_HDR_4sec/\")\n",
    "    except:\n",
    "        print(\"Error in copying: \", sample_add)\n",
    "        continue\n"
   ]
  },
  {
   "cell_type": "code",
   "execution_count": 23,
   "metadata": {},
   "outputs": [
    {
     "name": "stdout",
     "output_type": "stream",
     "text": [
      "2095\n"
     ]
    },
    {
     "name": "stderr",
     "output_type": "stream",
     "text": [
      "100%|██████████| 2095/2095 [16:57<00:00,  2.06it/s]  \n"
     ]
    },
    {
     "name": "stdout",
     "output_type": "stream",
     "text": [
      "208\n"
     ]
    },
    {
     "name": "stderr",
     "output_type": "stream",
     "text": [
      "100%|██████████| 208/208 [00:49<00:00,  4.22it/s]\n"
     ]
    }
   ],
   "source": [
    "# In Saved folder \"/media/ss223464/FVQA-PART1/Shreshth/HDR_#Shorts_YT_True_Vertical_HDR_4sec\", separate based in resolution using df_hdr_vertical[\"Height\"] and df_hdr_vertical dataframe \n",
    "\n",
    "base_hdr_4sec = \"/media/ss223464/Expansion/Shreshth_LIVE/Datasets/YT-HDR/HDR_#Shorts_YT_True_Vertical_HDR_4sec/\" #\"/media/ss223464/FVQA-PART1/Shreshth/HDR_#Shorts_YT_True_Vertical_HDR_4sec/\"\n",
    "\n",
    "\n",
    "# 4k or above\n",
    "df_hdr_vertical_4k = df_hdr_vertical[df_hdr_vertical[\"Height\"]>=3840]\n",
    "# reset the index \n",
    "df_hdr_vertical_4k = df_hdr_vertical_4k.reset_index(drop=True)\n",
    "print(len(df_hdr_vertical_4k))\n",
    "\n",
    "#make a new folder \n",
    "os.mkdir(\"/\".join(base_hdr_4sec.split('/')[0:-2])+\"/HDR_#Shorts_YT_True_Vertical_HDR_4sec_4k/\")\n",
    "# move in a new folder \n",
    "\n",
    "for i in tqdm(range(len(df_hdr_vertical_4k))):\n",
    "    sample_add =  base_hdr_4sec + df_hdr_vertical_4k[\"Name(+Duration)\"][i]\n",
    "    try:\n",
    "        # copy if the video is not already present\n",
    "        if not os.path.exists(\"/\".join(base_hdr_4sec.split('/')[0:-2])+\"/HDR_#Shorts_YT_True_Vertical_HDR_4sec_4k/\"+df_hdr_vertical_4k[\"Name(+Duration)\"][i]):\n",
    "            shutil.copy(sample_add, \"/\".join(base_hdr_4sec.split('/')[0:-2])+\"/HDR_#Shorts_YT_True_Vertical_HDR_4sec_4k/\")\n",
    "    except:\n",
    "        print(\"Error in copying: \", sample_add)\n",
    "        continue\n",
    "\n",
    "# between 1080p and 4k\n",
    "df_hdr_vertical_1080 = df_hdr_vertical[(df_hdr_vertical[\"Height\"]>=1920) & (df_hdr_vertical[\"Height\"]<3840)]\n",
    "# reset the index\n",
    "df_hdr_vertical_1080 = df_hdr_vertical_1080.reset_index(drop=True)\n",
    "print(len(df_hdr_vertical_1080))\n",
    "#make a new folder\n",
    "os.mkdir(\"/\".join(base_hdr_4sec.split('/')[0:-2])+\"/HDR_#Shorts_YT_True_Vertical_HDR_4sec_1080/\")\n",
    "# move in a new folder\n",
    "for i in tqdm(range(len(df_hdr_vertical_1080))):\n",
    "    sample_add = base_hdr_4sec  + df_hdr_vertical_1080[\"Name(+Duration)\"][i]\n",
    "    try:\n",
    "        # copy if the video is not already present\n",
    "        if not os.path.exists(\"/\".join(base_hdr_4sec.split('/')[0:-2])+\"/HDR_#Shorts_YT_True_Vertical_HDR_4sec_1080/\"+df_hdr_vertical_1080[\"Name(+Duration)\"][i]):\n",
    "            shutil.copy(sample_add, \"/\".join(base_hdr_4sec.split('/')[0:-2])+\"/HDR_#Shorts_YT_True_Vertical_HDR_4sec_1080/\")\n",
    "    except:\n",
    "        print(\"Error in copying: \", sample_add)\n",
    "        continue\n",
    "\n",
    "# below 1080p\n",
    "df_hdr_vertical_below_1080 = df_hdr_vertical[df_hdr_vertical[\"Height\"]<1920]\n",
    "# reset the index\n",
    "df_hdr_vertical_below_1080 = df_hdr_vertical_below_1080.reset_index(drop=True)\n",
    "print(len(df_hdr_vertical_below_1080))\n",
    "#make a new folder\n",
    "os.mkdir(\"/\".join(base_hdr_4sec.split('/')[0:-2])+\"/HDR_#Shorts_YT_True_Vertical_HDR_4sec_below_1080/\")\n",
    "# move in a new folder\n",
    "for i in tqdm(range(len(df_hdr_vertical_below_1080))):\n",
    "    sample_add = base_hdr_4sec + df_hdr_vertical_below_1080[\"Name(+Duration)\"][i]\n",
    "    try:\n",
    "        # copy if the video is not already present\n",
    "        if not os.path.exists(\"/\".join(base_hdr_4sec.split('/')[0:-2])+\"/HDR_#Shorts_YT_True_Vertical_HDR_4sec_below_1080/\"+df_hdr_vertical_below_1080[\"Name(+Duration)\"][i]):\n",
    "            shutil.copy(sample_add, \"/\".join(base_hdr_4sec.split('/')[0:-2])+\"/HDR_#Shorts_YT_True_Vertical_HDR_4sec_below_1080/\")\n",
    "    except:\n",
    "        print(\"Error in copying: \", sample_add)\n",
    "        continue\n"
   ]
  },
  {
   "cell_type": "code",
   "execution_count": 40,
   "metadata": {},
   "outputs": [
    {
     "name": "stdout",
     "output_type": "stream",
     "text": [
      "All data chunks:  ['/media/ss223464/Expansion/Shreshth_LIVE/Datasets/YT-HDR/CSV_CC_HDR_under4_#shorts/CC_HDR_under4_video_#shorts_10k_wordlist.csv', '/media/ss223464/Expansion/Shreshth_LIVE/Datasets/YT-HDR/CSV_CC_HDR_under4_#shorts/CC_HDR_under4_video_#shorts_10k_wordlist_8m_entities.csv', '/media/ss223464/Expansion/Shreshth_LIVE/Datasets/YT-HDR/CSV_CC_HDR_under4_#shorts/CC_HDR_under4_video_#shorts_urbandict-2dot5M.csv', '/media/ss223464/Expansion/Shreshth_LIVE/Datasets/YT-HDR/CSV_CC_HDR_under4_#shorts/HDR_CC_under4_video_#shorts_YT_8m_entities.csv']\n",
      "count     13170\n",
      "unique     3358\n",
      "top       かぜのねこ\n",
      "freq        644\n",
      "Name: Channel_Name, dtype: object\n",
      "Total videos from the channel (in total):  2\n",
      "Total videos from the channel (In HDR Vertical Filtered):  1\n",
      "1920    1\n",
      "Name: Height, dtype: int64\n",
      "4k or above videos:  0\n",
      "1080p to 4K videos:  1\n",
      "Below 1080p videos:  0\n"
     ]
    }
   ],
   "source": [
    "\"\"\" \n",
    "Filtering the videos from certain channels.\n",
    "\n",
    "Channels = [\"WEALTH\",\"Mercedes Gummi Bear Compton\", \"Секс-шоп Intimka\", \"Good Lines\"]\n",
    "\n",
    " - Get the original search query results and compile all csv files. \n",
    " - Get the rows which have the channels  \n",
    " - Then remove all other columns, except the ID and Channels \n",
    " \n",
    " - Get the HDR vertical dataframe and check how many video are there. \n",
    " - Check the video which are 1080p or higher and have duration >=4 sec and have ID overlapping with the channel videos \n",
    "\"\"\"\n",
    "\n",
    "\n",
    "import glob\n",
    "import pandas as pd\n",
    "\n",
    "# Get the Channel Names\n",
    "Channels = [\"MDS YT\"]\n",
    "\n",
    "\"\"\" \n",
    "Get the original Search queries; Reading the search query results and compiling all csv files. \n",
    "\"\"\"\n",
    "\n",
    "list_csv = glob.glob(\"/media/ss223464/Expansion/Shreshth_LIVE/Datasets/YT-HDR/CSV_CC_HDR_under4_#shorts/*.csv\")\n",
    "print(\"All data chunks: \", list_csv)\n",
    "\n",
    "# Read all csv and combine them \n",
    "df_search = pd.DataFrame()\n",
    "for i in list_csv:\n",
    "    df_temp = pd.read_csv(i)\n",
    "    df_search = pd.concat([df_search, df_temp], axis=0)\n",
    "\n",
    "# reset index \n",
    "df_search = df_search.reset_index(drop=True)\n",
    "\n",
    "# fill NaN with None in channel column \n",
    "df_search[\"channel\"] = df_search[\"channel\"].fillna(\"None\")\n",
    "\n",
    "# Get the channel name, replace NaN\n",
    "df_search[\"Channel_Name\"] = [i.split('{')[1].split(\"'\")[3] if i != \"None\" else None for i in df_search[\"channel\"].to_list()]\n",
    "\n",
    "# channel has jason in string, read the channel name, structure in inside double quotes, so split by double quotes and take the 2nd element \n",
    "df_search.head(5)\n",
    "\n",
    "# Description of channel names \n",
    "print(df_search[\"Channel_Name\"].describe())\n",
    "\n",
    "\n",
    "\"\"\" \n",
    "Filtering query results with Channel names.\n",
    "\"\"\"\n",
    "# Get the rows which have the channels \n",
    "df_search_channels = df_search[df_search[\"Channel_Name\"].isin(Channels)]\n",
    "df_search_channels = df_search_channels.reset_index(drop=True)\n",
    "print(\"Total videos from the channel (in total): \", len(df_search_channels))\n",
    "df_search_channels.head(5)\n",
    "\n",
    "\n",
    "\"\"\" \n",
    "Filtering the CSV/Video based on the channel names.\n",
    "\"\"\"\n",
    "# Get the csv for videos of interests. - HDR Vertical \n",
    "csv_interest = \"csv_files/True_HDR_Vertical_Shorts_list_+4sec.csv\"\n",
    "df_hdr_vertical = pd.read_csv(csv_interest)\n",
    "df_hdr_vertical = df_hdr_vertical.reset_index(drop=True)\n",
    "\n",
    "# ID overlapping with the channel videos\n",
    "# Add channel column and map the channel name to the ID if present else None \n",
    "df_hdr_vertical[\"Channel_Name\"] = df_hdr_vertical[\"ID\"].map(dict(zip(df_search_channels[\"id\"].to_list(), df_search_channels[\"Channel_Name\"].to_list())))\n",
    "# drop index columns \n",
    "df_hdr_vertical = df_hdr_vertical.drop(columns=[\"Unnamed: 0\", \"Unnamed: 0.1\", \"Unnamed: 0.2\"])\n",
    "df_hdr_vertical.head(5)\n",
    "\n",
    "# Get the all/certain channels videos\n",
    "df_hdr_vertical_channels = df_hdr_vertical[df_hdr_vertical[\"Channel_Name\"].isin(Channels)]\n",
    "df_hdr_vertical_channels = df_hdr_vertical_channels.reset_index(drop=True)\n",
    "print(\"Total videos from the channel (In HDR Vertical Filtered): \", len(df_hdr_vertical_channels))\n",
    "\n",
    "# check the resolution distribution\n",
    "print(df_hdr_vertical_channels[\"Height\"].value_counts())\n",
    "\n",
    "# Video in 4K or above group \n",
    "print('4k or above videos: ',len(df_hdr_vertical_channels[df_hdr_vertical_channels[\"Height\"]>=3840]))\n",
    "# Video in 1080p to 4K.\n",
    "print('1080p to 4K videos: ',len(df_hdr_vertical_channels[(df_hdr_vertical_channels[\"Height\"]>=1920) & (df_hdr_vertical_channels[\"Height\"]<3840)]))\n",
    "# Video in below 1080p.\n",
    "print('Below 1080p videos: ',len(df_hdr_vertical_channels[df_hdr_vertical_channels[\"Height\"]<1920]))\n",
    "\n",
    "\n",
    "if False: \n",
    "    # Check videos in each corresponding separated folder and move to a new folder with channel name \n",
    "    import shutil\n",
    "    import os\n",
    "    import glob\n",
    "    from tqdm import tqdm\n",
    "\n",
    "    # Get the base path\n",
    "    base_hdr_4sec4k = \"/media/ss223464/Expansion/Shreshth_LIVE/Datasets/YT-HDR/Filtered/HDR_#Shorts_YT_True_Vertical_HDR_4sec_4k/\"\n",
    "    base_hdr_4sec1080 = \"/media/ss223464/Expansion/Shreshth_LIVE/Datasets/YT-HDR/HDR_#Shorts_YT_True_Vertical_HDR_4sec_1080/\"\n",
    "    base_hdr_4secbelow1080 = \"/media/ss223464/Expansion/Shreshth_LIVE/Datasets/YT-HDR/Filtered/HDR_#Shorts_YT_True_Vertical_HDR_4sec_below_1080/\"\n",
    "    base_hdr_removed = \"/media/ss223464/Expansion/Shreshth_LIVE/Datasets/YT-HDR/Filtered/HDR_#Shorts_YT_Vertical_HDR_4sec_Removed/\"\n",
    "\n",
    "    # move all videos belonging to Channels from above folder and new folder, webm or mp4. Do it in for loop for all channels.\n",
    "    all_vids_4sec = glob.glob(base_hdr_4sec4k+\"*\")+glob.glob(base_hdr_4sec1080+\"*\")+glob.glob(base_hdr_4secbelow1080+\"*\")+glob.glob(base_hdr_removed+\"*\")\n",
    "    for i in Channels:\n",
    "        # Get the channel videos from the above folders\n",
    "        list_videos = df_hdr_vertical_channels[df_hdr_vertical_channels[\"Channel_Name\"]==i][\"Name(+Duration)\"].to_list()\n",
    "        \n",
    "        print(f\"Total videos from the {i} (In HDR Vertical Filtered): \", len(list_videos))\n",
    "        # make a new folder \n",
    "        save_channel = \"/media/ss223464/Expansion/Shreshth_LIVE/Datasets/YT-HDR/Filtered/HDR_#Shorts_YT_Vertical_HDR_4sec_Removed/\"+i+\"/\"\n",
    "        try:\n",
    "            os.mkdir(save_channel)\n",
    "        except: \n",
    "            print(\"Folder already present: \", i)\n",
    "        # move in a new folder \n",
    "        for j in tqdm(list_videos):\n",
    "            #get the address of j video \n",
    "            j_path = [k for k in all_vids_4sec if j in k]\n",
    "            #if j is empty, show name \n",
    "            if len(j_path)==0 or len(j_path)>=2:\n",
    "                print(\"Video not found: \", j, j_path)\n",
    "                continue\n",
    "\n",
    "            try:\n",
    "                # copy if the video is not already present\n",
    "                if not os.path.exists(save_channel+j.split(\"/\")[-1]):\n",
    "                    shutil.move(j_path[0], save_channel)\n",
    "            except:\n",
    "                print(\"Error in copying: \", j)\n",
    "                continue\n"
   ]
  },
  {
   "cell_type": "code",
   "execution_count": null,
   "metadata": {},
   "outputs": [],
   "source": [
    "\"\"\" \n",
    "Looking for channel name with id : 57ZKhNG7HSk \n",
    "\"\"\"\n",
    "\n",
    "search_id = '57ZKhNG7HSk'\n",
    "# Get the channel name for given id\n",
    "print(f\"channel name for {search_id}\", df_search[df_search[\"id\"]==search_id][\"Channel_Name\"].to_list())\n"
   ]
  },
  {
   "cell_type": "code",
   "execution_count": null,
   "metadata": {},
   "outputs": [],
   "source": []
  },
  {
   "cell_type": "code",
   "execution_count": 42,
   "metadata": {},
   "outputs": [
    {
     "name": "stdout",
     "output_type": "stream",
     "text": [
      "original length: 660\n",
      "filtered length: 644\n"
     ]
    },
    {
     "data": {
      "text/plain": [
       "'\\n# Save the fina csv and copy all to new folder for manual filtering \\ndf_vertical_sdr.to_csv(\"csv_files/True_Vertical_Shorts_list_SDR_+4sec.csv\", index=False)\\n\\nimport shutil \\n\\n# reset the index\\ndf_vertical_sdr = df_vertical_sdr.reset_index(drop=True)\\n\\nfor i in tqdm(range(len(df_vertical_sdr))):\\n    sample_add = df_vertical_sdr[\"Base_Path\"][i] + df_vertical_sdr[\"Name(+Duration)\"][i]\\n    try:\\n        shutil.copy(sample_add, \"/\".join(df_vertical_sdr[\"Base_Path\"][i].split(\\'/\\')[0:-2])+\"/#Shorts_YT_True_Vertical_SDR_4sec/\")\\n    except:\\n        print(\"Error in copying: \", sample_add)\\n        continue\\n'"
      ]
     },
     "execution_count": 42,
     "metadata": {},
     "output_type": "execute_result"
    }
   ],
   "source": [
    "# Getting all vertical SDR videos \n",
    "df_vertical_sdr = df_vertical[~df_vertical[\"Name(+Duration)\"].isin(df_hdr_vertical[\"Name(+Duration)\"].to_list())] \n",
    "print(f\"original length: {len(df_vertical_sdr)}\")\n",
    "# filter >4 sec. \n",
    "df_vertical_sdr = df_vertical_sdr[df_vertical_sdr[\"end_time\"]>=4]\n",
    "print(f\"filtered length: {len(df_vertical_sdr)}\")\n",
    "\n",
    "# Save the fina csv and copy all to new folder for manual filtering \n",
    "df_vertical_sdr.to_csv(\"csv_files/True_Vertical_Shorts_list_SDR_+4sec.csv\", index=False)\n",
    "\n",
    "import shutil \n",
    "\n",
    "# reset the index\n",
    "df_vertical_sdr = df_vertical_sdr.reset_index(drop=True)\n",
    "\n",
    "for i in tqdm(range(len(df_vertical_sdr))):\n",
    "    sample_add = df_vertical_sdr[\"Base_Path\"][i] + df_vertical_sdr[\"Name(+Duration)\"][i]\n",
    "    try:\n",
    "        shutil.copy(sample_add, \"/\".join(df_vertical_sdr[\"Base_Path\"][i].split('/')[0:-2])+\"/#Shorts_YT_True_Vertical_SDR_4sec/\")\n",
    "    except:\n",
    "        print(\"Error in copying: \", sample_add)\n",
    "        continue\n"
   ]
  },
  {
   "cell_type": "code",
   "execution_count": 43,
   "metadata": {},
   "outputs": [
    {
     "data": {
      "text/plain": [
       "<matplotlib.lines.Line2D at 0x7f9d055a3490>"
      ]
     },
     "execution_count": 43,
     "metadata": {},
     "output_type": "execute_result"
    },
    {
     "data": {
      "image/png": "[encoded data removed]",
      "text/plain": [
       "<Figure size 800x800 with 1 Axes>"
      ]
     },
     "metadata": {},
     "output_type": "display_data"
    }
   ],
   "source": [
    "# check end time distribution for vertical SDR videos\n",
    "\n",
    "#plot histogram of runtime data show these statistics in the figure.\n",
    "import numpy as np\n",
    "import matplotlib.pyplot as plt\n",
    "\n",
    "# Create subplots\n",
    "fig, ax1 = plt.subplots(1, 1, figsize=(8, 8))\n",
    "\n",
    "# Plotting the histogram\n",
    "ax1.hist(df_vertical_sdr[\"end_time\"], bins=200, edgecolor='black', alpha=0.5)\n",
    "ax1.set_xlabel('Run times')\n",
    "ax1.set_ylabel('Frequency')\n",
    "ax1.set_title('Histogram of Run times for True Vertical SDR Short Videos')\n",
    "#marker at 4 sec\n",
    "ax1.axvline(x=4, color='r', linestyle='--', label='4 sec')\n",
    "\n",
    "\n"
   ]
  },
  {
   "cell_type": "code",
   "execution_count": 12,
   "metadata": {},
   "outputs": [
    {
     "name": "stdout",
     "output_type": "stream",
     "text": [
      "4k or above 137\n",
      "1080p or above 307\n"
     ]
    }
   ],
   "source": [
    "# check resolution of SDR  \n",
    "print(\"4k or above\", len(df_vertical_sdr[df_vertical_sdr[\"Height\"]>=3840]))\n",
    "print(\"1080p or above\", len(df_vertical_sdr[df_vertical_sdr[\"Height\"]>=1920]))\n",
    "\n",
    "#longer than  16:9\n"
   ]
  },
  {
   "cell_type": "code",
   "execution_count": 49,
   "metadata": {},
   "outputs": [
    {
     "name": "stdout",
     "output_type": "stream",
     "text": [
      "Total files in folder:  135\n",
      "Total files in csv:  135\n",
      "Originally 4k or above :  137\n",
      "Originally 1080p or above :  307\n",
      "filtered 4k or above :  113\n",
      "fitlered 1080p or above :  116\n",
      "Overlapping 4k or above :  113\n",
      "Overlapping 1080p or above :  116\n"
     ]
    },
    {
     "name": "stderr",
     "output_type": "stream",
     "text": [
      "/tmp/ipykernel_1081757/4232102318.py:20: UserWarning: Boolean Series key will be reindexed to match DataFrame index.\n",
      "  print(\"Overlapping 4k or above : \", len(filtered_vertical_sdr[filtered_vertical_sdr[\"Height\"]>=3840][filtered_vertical_sdr[\"Height\"]>=3840].drop_duplicates()))\n",
      "/tmp/ipykernel_1081757/4232102318.py:21: UserWarning: Boolean Series key will be reindexed to match DataFrame index.\n",
      "  print(\"Overlapping 1080p or above : \", len(filtered_vertical_sdr[filtered_vertical_sdr[\"Height\"]>=1920][filtered_vertical_sdr[\"Height\"]>=1920].drop_duplicates()))\n"
     ]
    }
   ],
   "source": [
    "\n",
    " # check how many of videos in folder correlates with resolutions in csv. \n",
    "\n",
    "filtered_sdr = \"/media/ss223464/FVQA-PART1/Shreshth/#Shorts_YT_True_Vertical_SDR_4sec/\" \n",
    "all_files = os.listdir(filtered_sdr)\n",
    "print(\"Total files in folder: \", len(all_files))\n",
    "\n",
    "# take on video and check if it is present in csv.\n",
    "filtered_vertical_sdr = df_vertical_sdr[df_vertical_sdr[\"Name(+Duration)\"].isin(all_files)]\n",
    "print(\"Total files in csv: \", len(filtered_vertical_sdr))\n",
    "\n",
    "# originally resolution in sdr vertical csv \n",
    "print(\"Originally 4k or above : \", len(df_vertical_sdr[df_vertical_sdr[\"Height\"]>=3840]))\n",
    "print(\"Originally 1080p or above : \", len(df_vertical_sdr[df_vertical_sdr[\"Height\"]>=1920]))\n",
    "\n",
    "# Check the resolution now \n",
    "print(\"filtered 4k or above : \", len(filtered_vertical_sdr[filtered_vertical_sdr[\"Height\"]>=3840]))\n",
    "print(\"fitlered 1080p or above : \", len(filtered_vertical_sdr[filtered_vertical_sdr[\"Height\"]>=1920]))\n"
   ]
  },
  {
   "cell_type": "code",
   "execution_count": null,
   "metadata": {},
   "outputs": [],
   "source": []
  },
  {
   "cell_type": "markdown",
   "metadata": {},
   "source": [
    "## Manually cleaned the Vertical Videos (>4 sec). \n",
    "\n",
    "- Manually checked and removed a lot of videos for SDR and some for HDR vertical videos with >=4 sec. \n",
    "\n",
    "- Out of approx 3000 (check above for exact number)\n",
    "    - SDR [644]: \n",
    "        - 509 videos were rejected, mostly due to licence issues. Some due to content issue.  \n",
    "        - 135 videos were kept as clean and CC. \n",
    "        - overall SDR videos/content is very varying and difficult. A lot of issue in CC licence as people change content, copy it, and an add filters. \n",
    "    - HDR [2907]:\n",
    "        - Divided into three groups based on resolution: 4K, FHD-4K, below FHD. \n",
    "        - Majority of videos ~ 2000 were FHD, 600 4K, rest below FHD but still high resolution. \n",
    "        - Apparently, not a lot of issue except for some controversial or uncomforting content. Almost no issue with CC licence. \n",
    "        - Remove approx - 100ish videos. \n"
   ]
  },
  {
   "cell_type": "code",
   "execution_count": 10,
   "metadata": {},
   "outputs": [
    {
     "name": "stdout",
     "output_type": "stream",
     "text": [
      "Total SDR videos in csv:  644\n",
      "Total HDR videos in csv:  2907\n",
      "Total SDR Vertical Videos Cleaned (>=4 sec):  135\n",
      "Total HDR Vertical Videos Cleaned (>=4 sec):  2660\n"
     ]
    }
   ],
   "source": [
    "# Reading the filtered video list for vertical and updating the csv and saving new for dataset. \n",
    "# update the dataset folder as well. - Make copy for final cleaned dataset. \n",
    "\n",
    "import pandas as pd \n",
    "import os \n",
    "\n",
    "# read the sdr/hdr csv\n",
    "df_vertical_sdr_4sec = pd.read_csv(\"csv_files/True_Vertical_Shorts_list_SDR_+4sec.csv\")\n",
    "df_vertical_sdr_4sec = df_vertical_sdr_4sec.reset_index(drop=True)\n",
    "print(\"Total SDR videos in csv: \", len(df_vertical_sdr_4sec))\n",
    "\n",
    "df_vertical_hdr_4sec = pd.read_csv(\"csv_files/True_HDR_Vertical_Shorts_list_+4sec.csv\")\n",
    "df_vertical_hdr_4sec = df_vertical_hdr_4sec.reset_index(drop=True)\n",
    "print(\"Total HDR videos in csv: \", len(df_vertical_hdr_4sec))\n",
    "\n",
    "# Get the cleaned folder path\n",
    "cleaned_sdr_4sec = os.listdir(\"/media/ss223464/Expansion/Shreshth_LIVE/Datasets/YT-HDR/Filtered/#Shorts_YT_True_Vertical_SDR_4sec/\")\n",
    "cleaned_hdr_4sec = os.listdir(\"/media/ss223464/Expansion/Shreshth_LIVE/Datasets/YT-HDR/Filtered/HDR_#Shorts_YT_True_Vertical_HDR_4sec_4k/\")+os.listdir(\"/media/ss223464/Expansion/Shreshth_LIVE/Datasets/YT-HDR/Filtered/HDR_#Shorts_YT_True_Vertical_HDR_4sec_1080/\")+os.listdir(\"/media/ss223464/Expansion/Shreshth_LIVE/Datasets/YT-HDR/Filtered/HDR_#Shorts_YT_True_Vertical_HDR_4sec_below_1080/\")\n",
    "\n",
    "# Get the cleaned csv\n",
    "df_cleaned_sdr_4sec = df_vertical_sdr_4sec[df_vertical_sdr_4sec[\"Name(+Duration)\"].isin(cleaned_sdr_4sec)]\n",
    "df_cleaned_hdr_4sec = df_vertical_hdr_4sec[df_vertical_hdr_4sec[\"Name(+Duration)\"].isin(cleaned_hdr_4sec)]\n",
    "\n",
    "# drop all indexed\n",
    "df_cleaned_sdr_4sec = df_cleaned_sdr_4sec.drop(columns=[\"Unnamed: 0\", \"Unnamed: 0.1\", \"Unnamed: 0.2\"])\n",
    "df_cleaned_hdr_4sec = df_cleaned_hdr_4sec.drop(columns=[\"Unnamed: 0\", \"Unnamed: 0.1\", \"Unnamed: 0.2\"])\n",
    "\n",
    "# if whole column is NaN then drop it \n",
    "df_cleaned_sdr_4sec = df_cleaned_sdr_4sec.dropna(axis=1, how='all')\n",
    "df_cleaned_hdr_4sec = df_cleaned_hdr_4sec.dropna(axis=1, how='all')\n",
    "\n",
    "# Save the final csv\n",
    "df_cleaned_sdr_4sec.to_csv(\"csv_files/True_Vertical_Shorts_list_SDR_+4sec_cleaned.csv\", index=False)\n",
    "df_cleaned_hdr_4sec.to_csv(\"csv_files/True_Vertical_Shorts_list_HDR_+4sec_cleaned.csv\", index=False)\n",
    "\n",
    "# Print the final count \n",
    "print(\"Total SDR Vertical Videos Cleaned (>=4 sec): \",len(df_cleaned_sdr_4sec))\n",
    "print(\"Total HDR Vertical Videos Cleaned (>=4 sec): \",len(df_cleaned_hdr_4sec))\n"
   ]
  },
  {
   "cell_type": "code",
   "execution_count": 12,
   "metadata": {},
   "outputs": [],
   "source": [
    "# Save with just IDs \n",
    "df_cleaned_sdr_4sec[\"ID\"].to_csv(\"csv_files/True_Vertical_Shorts_list_SDR_+4sec_cleaned_ID.csv\", index=False)\n",
    "df_cleaned_hdr_4sec[\"ID\"].to_csv(\"csv_files/True_Vertical_Shorts_list_HDR_+4sec_cleaned_ID.csv\", index=False)"
   ]
  },
  {
   "cell_type": "code",
   "execution_count": 15,
   "metadata": {},
   "outputs": [
    {
     "name": "stdout",
     "output_type": "stream",
     "text": [
      "['4pkRKch3H5E_88.webm', '4xjbhmTe5zw_42.webm', '5OyOiKDsGo4_58.webm']\n"
     ]
    }
   ],
   "source": [
    "# list the videos in YT show in removed hdr folder\n",
    "print(os.listdir('/media/ss223464/Expansion/Shreshth_LIVE/Datasets/YT-HDR/Filtered/HDR_#Shorts_YT_Vertical_HDR_4sec_Removed/Show_YT/'))"
   ]
  },
  {
   "cell_type": "code",
   "execution_count": null,
   "metadata": {},
   "outputs": [],
   "source": []
  },
  {
   "cell_type": "markdown",
   "metadata": {},
   "source": [
    "## Checking and Analysing the Cleaned Video \n",
    "\n",
    "* Note that more cleaning is being done at YT end - redundant videos, videos with minors, etc.\n"
   ]
  },
  {
   "cell_type": "code",
   "execution_count": 2,
   "metadata": {},
   "outputs": [
    {
     "name": "stdout",
     "output_type": "stream",
     "text": [
      "1920    1765\n",
      "3840     595\n",
      "2160     119\n",
      "1280      88\n",
      "1278      10\n",
      "        ... \n",
      "1080       1\n",
      "1176       1\n",
      "1800       1\n",
      "1256       1\n",
      "1638       1\n",
      "Name: Height, Length: 72, dtype: int64\n",
      "4k or above videos:  595\n",
      "1080p to 4K videos:  1914\n",
      "1080p to 720p videos:  113\n",
      "720p to 480p videos:  33\n",
      "480p to 360p videos:  3\n",
      "360p to 240p videos:  2\n",
      "240p to 144p videos:  0\n"
     ]
    }
   ],
   "source": [
    "# Read the cleaned HDR vertical csv \n",
    "\n",
    "import pandas as pd \n",
    "\n",
    "df_hdr = pd.read_csv(\"csv_files/True_Vertical_Shorts_list_HDR_+4sec_cleaned.csv\")\n",
    "df_hdr = df_hdr.reset_index(drop=True)\n",
    "\n",
    "# check the resolution distribution in 4k,2k,1080p,720p,480p,360p,240p,144p  \n",
    "print(df_hdr[\"Height\"].value_counts())\n",
    "\n",
    "# Video in 4K or above group\n",
    "print('4k or above videos: ',len(df_hdr[df_hdr[\"Height\"]>=3840]))\n",
    "\n",
    "# Video in 1080p to 4K.\n",
    "print('1080p to 4K videos: ',len(df_hdr[(df_hdr[\"Height\"]>=1920) & (df_hdr[\"Height\"]<3840)]))\n",
    "\n",
    "# Video in between 1080p and 720p.\n",
    "print('1080p to 720p videos: ',len(df_hdr[(df_hdr[\"Height\"]>=1280) & (df_hdr[\"Height\"]<1920)]))\n",
    "\n",
    "# Video in between 720p and 480p.\n",
    "print('720p to 480p videos: ',len(df_hdr[(df_hdr[\"Height\"]>=854) & (df_hdr[\"Height\"]<1280)]))\n",
    "\n",
    "# Video in between 480p and 360p.\n",
    "print('480p to 360p videos: ',len(df_hdr[(df_hdr[\"Height\"]>=640) & (df_hdr[\"Height\"]<854)]))\n",
    "\n",
    "# Video in between 360p and 240p.\n",
    "print('360p to 240p videos: ',len(df_hdr[(df_hdr[\"Height\"]>=426) & (df_hdr[\"Height\"]<640)]))\n",
    "\n",
    "# Video in between 240p and 144p.\n",
    "print('240p to 144p videos: ',len(df_hdr[(df_hdr[\"Height\"]>=256) & (df_hdr[\"Height\"]<426)]))\n",
    "\n",
    "\n"
   ]
  },
  {
   "cell_type": "code",
   "execution_count": null,
   "metadata": {},
   "outputs": [],
   "source": []
  }
 ],
 "metadata": {
  "kernelspec": {
   "display_name": "yt-search",
   "language": "python",
   "name": "python3"
  },
  "language_info": {
   "codemirror_mode": {
    "name": "ipython",
    "version": 3
   },
   "file_extension": ".py",
   "mimetype": "text/x-python",
   "name": "python",
   "nbconvert_exporter": "python",
   "pygments_lexer": "ipython3",
   "version": "3.10.9"
  },
  "orig_nbformat": 4,
  "vscode": {
   "interpreter": {
    "hash": "a3f8921ba940a257521e71f0cfdf9492ef368641460fdda243b980fbbb26b994"
   }
  }
 },
 "nbformat": 4,
 "nbformat_minor": 2
}
